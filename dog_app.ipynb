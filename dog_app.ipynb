{
 "cells": [
  {
   "cell_type": "markdown",
   "metadata": {
    "deletable": true,
    "editable": true
   },
   "source": [
    "# Artificial Intelligence Nanodegree\n",
    "\n",
    "## Convolutional Neural Networks\n",
    "\n",
    "## Project: Write an Algorithm for a Dog Identification App \n",
    "\n",
    "---\n",
    "\n",
    "In this notebook, some template code has already been provided for you, and you will need to implement additional functionality to successfully complete this project. You will not need to modify the included code beyond what is requested. Sections that begin with **'(IMPLEMENTATION)'** in the header indicate that the following block of code will require additional functionality which you must provide. Instructions will be provided for each section, and the specifics of the implementation are marked in the code block with a 'TODO' statement. Please be sure to read the instructions carefully! \n",
    "\n",
    "> **Note**: Once you have completed all of the code implementations, you need to finalize your work by exporting the iPython Notebook as an HTML document. Before exporting the notebook to html, all of the code cells need to have been run so that reviewers can see the final implementation and output. You can then export the notebook by using the menu above and navigating to  \\n\",\n",
    "    \"**File -> Download as -> HTML (.html)**. Include the finished document along with this notebook as your submission.\n",
    "\n",
    "In addition to implementing code, there will be questions that you must answer which relate to the project and your implementation. Each section where you will answer a question is preceded by a **'Question X'** header. Carefully read each question and provide thorough answers in the following text boxes that begin with **'Answer:'**. Your project submission will be evaluated based on your answers to each of the questions and the implementation you provide.\n",
    "\n",
    ">**Note:** Code and Markdown cells can be executed using the **Shift + Enter** keyboard shortcut.  Markdown cells can be edited by double-clicking the cell to enter edit mode.\n",
    "\n",
    "The rubric contains _optional_ \"Stand Out Suggestions\" for enhancing the project beyond the minimum requirements. If you decide to pursue the \"Stand Out Suggestions\", you should include the code in this IPython notebook.\n",
    "\n",
    "\n",
    "\n",
    "---\n",
    "### Why We're Here \n",
    "\n",
    "In this notebook, you will make the first steps towards developing an algorithm that could be used as part of a mobile or web app.  At the end of this project, your code will accept any user-supplied image as input.  If a dog is detected in the image, it will provide an estimate of the dog's breed.  If a human is detected, it will provide an estimate of the dog breed that is most resembling.  The image below displays potential sample output of your finished project (... but we expect that each student's algorithm will behave differently!). \n",
    "\n",
    "![Sample Dog Output](images/sample_dog_output.png)\n",
    "\n",
    "In this real-world setting, you will need to piece together a series of models to perform different tasks; for instance, the algorithm that detects humans in an image will be different from the CNN that infers dog breed.  There are many points of possible failure, and no perfect algorithm exists.  Your imperfect solution will nonetheless create a fun user experience!\n",
    "\n",
    "### The Road Ahead\n",
    "\n",
    "We break the notebook into separate steps.  Feel free to use the links below to navigate the notebook.\n",
    "\n",
    "* [Step 0](#step0): Import Datasets\n",
    "* [Step 1](#step1): Detect Humans\n",
    "* [Step 2](#step2): Detect Dogs\n",
    "* [Step 3](#step3): Create a CNN to Classify Dog Breeds (from Scratch)\n",
    "* [Step 4](#step4): Use a CNN to Classify Dog Breeds (using Transfer Learning)\n",
    "* [Step 5](#step5): Create a CNN to Classify Dog Breeds (using Transfer Learning)\n",
    "* [Step 6](#step6): Write your Algorithm\n",
    "* [Step 7](#step7): Test Your Algorithm\n",
    "\n",
    "---\n",
    "<a id='step0'></a>\n",
    "## Step 0: Import Datasets\n",
    "\n",
    "### Import Dog Dataset\n",
    "\n",
    "In the code cell below, we import a dataset of dog images.  We populate a few variables through the use of the `load_files` function from the scikit-learn library:\n",
    "- `train_files`, `valid_files`, `test_files` - numpy arrays containing file paths to images\n",
    "- `train_targets`, `valid_targets`, `test_targets` - numpy arrays containing onehot-encoded classification labels \n",
    "- `dog_names` - list of string-valued dog breed names for translating labels"
   ]
  },
  {
   "cell_type": "code",
   "execution_count": null,
   "metadata": {
    "collapsed": false,
    "deletable": true,
    "editable": true
   },
   "outputs": [],
   "source": [
    "!pip install keras opencv-python tqdm\n",
    "\n",
    "!apt -qq update\n",
    "!apt -qq install -y libsm6 libxext6 libfontconfig1 libxrender1 --allow-unauthenticated"
   ]
  },
  {
   "cell_type": "code",
   "execution_count": null,
   "metadata": {
    "collapsed": false,
    "deletable": true,
    "editable": true
   },
   "outputs": [
    {
     "name": "stderr",
     "output_type": "stream",
     "text": [
      "/usr/local/envs/py3env/lib/python3.5/site-packages/h5py/__init__.py:36: FutureWarning: Conversion of the second argument of issubdtype from `float` to `np.floating` is deprecated. In future, it will be treated as `np.float64 == np.dtype(float).type`.\n",
      "  from ._conv import register_converters as _register_converters\n",
      "Using TensorFlow backend.\n"
     ]
    }
   ],
   "source": [
    "from sklearn.datasets import load_files       \n",
    "from keras.utils import np_utils\n",
    "import numpy as np\n",
    "from glob import glob\n",
    "\n",
    "# define function to load train, test, and validation datasets\n",
    "def load_dataset(path):\n",
    "    data = load_files(path)\n",
    "    dog_files = np.array(data['filenames'])\n",
    "    dog_targets = np_utils.to_categorical(np.array(data['target']), 133)\n",
    "    return dog_files, dog_targets\n",
    "\n",
    "# load train, test, and validation datasets\n",
    "train_files, train_targets = load_dataset('dogImages/train')\n",
    "valid_files, valid_targets = load_dataset('dogImages/valid')\n",
    "test_files, test_targets = load_dataset('dogImages/test')\n",
    "\n",
    "# load list of dog names\n",
    "dog_names = [item[20:-1] for item in sorted(glob(\"dogImages/train/*/\"))]\n",
    "\n",
    "# print statistics about the dataset\n",
    "print('There are %d total dog categories.' % len(dog_names))\n",
    "print('There are %s total dog images.\\n' % len(np.hstack([train_files, valid_files, test_files])))\n",
    "print('There are %d training dog images.' % len(train_files))\n",
    "print('There are %d validation dog images.' % len(valid_files))\n",
    "print('There are %d test dog images.'% len(test_files))"
   ]
  },
  {
   "cell_type": "code",
   "execution_count": 7,
   "metadata": {
    "collapsed": false,
    "deletable": true,
    "editable": true
   },
   "outputs": [
    {
     "name": "stdout",
     "output_type": "stream",
     "text": [
      "<class 'numpy.ndarray'>\n",
      "<class 'tuple'>\n",
      "<class 'numpy.str_'>\n",
      "dogImages/valid/002.Afghan_hound/Afghan_hound_00095.jpg\n",
      "\n",
      "\n",
      "<class 'numpy.ndarray'>\n",
      "<class 'tuple'>\n",
      "<class 'numpy.ndarray'>\n",
      "[0. 0. 0. 0. 0. 0. 0. 0. 0. 0. 0. 0. 0. 0. 0. 0. 0. 0. 0. 0. 0. 0. 0. 0.\n",
      " 0. 0. 0. 0. 0. 0. 0. 0. 0. 0. 0. 0. 0. 0. 0. 0. 0. 0. 0. 0. 0. 0. 0. 0.\n",
      " 0. 0. 0. 0. 0. 0. 0. 0. 0. 0. 0. 0. 0. 0. 0. 0. 0. 0. 0. 0. 0. 0. 0. 0.\n",
      " 0. 0. 0. 0. 0. 0. 0. 0. 0. 0. 0. 0. 0. 0. 0. 0. 0. 0. 0. 0. 0. 0. 0. 1.\n",
      " 0. 0. 0. 0. 0. 0. 0. 0. 0. 0. 0. 0. 0. 0. 0. 0. 0. 0. 0. 0. 0. 0. 0. 0.\n",
      " 0. 0. 0. 0. 0. 0. 0. 0. 0. 0. 0. 0. 0.]\n"
     ]
    }
   ],
   "source": [
    "print(type(valid_files))\n",
    "print(type(valid_files.shape))\n",
    "print(type(valid_files[10]))\n",
    "print(valid_files[10])\n",
    "\n",
    "print(\"\\n\")\n",
    "\n",
    "print(type(valid_targets))\n",
    "print(type(valid_targets.shape))\n",
    "print(type(valid_targets[10]))\n",
    "print(valid_targets[1])"
   ]
  },
  {
   "cell_type": "markdown",
   "metadata": {
    "deletable": true,
    "editable": true
   },
   "source": [
    "## Import Human Dataset\n",
    "\n",
    "In the code cell below, we import a dataset of human images, where the file paths are stored in the numpy array `human_files`."
   ]
  },
  {
   "cell_type": "code",
   "execution_count": 4,
   "metadata": {
    "collapsed": false,
    "deletable": true,
    "editable": true
   },
   "outputs": [
    {
     "name": "stdout",
     "output_type": "stream",
     "text": [
      "There are 13233 total human images.\n"
     ]
    }
   ],
   "source": [
    "import random\n",
    "random.seed(8675309)\n",
    "\n",
    "# load filenames in shuffled human dataset\n",
    "human_files = np.array(glob(\"lfw/*/*\"))\n",
    "random.shuffle(human_files)\n",
    "\n",
    "# print statistics about the dataset\n",
    "print('There are %d total human images.' % len(human_files))"
   ]
  },
  {
   "cell_type": "markdown",
   "metadata": {
    "deletable": true,
    "editable": true
   },
   "source": [
    "---\n",
    "<a id='step1'></a>\n",
    "## Step 1: Detect Humans\n",
    "\n",
    "We use OpenCV's implementation of [Haar feature-based cascade classifiers](http://docs.opencv.org/trunk/d7/d8b/tutorial_py_face_detection.html) to detect human faces in images.  OpenCV provides many pre-trained face detectors, stored as XML files on [github](https://github.com/opencv/opencv/tree/master/data/haarcascades).  We have downloaded one of these detectors and stored it in the `haarcascades` directory.\n",
    "\n",
    "In the next code cell, we demonstrate how to use this detector to find human faces in a sample image."
   ]
  },
  {
   "cell_type": "code",
   "execution_count": 9,
   "metadata": {
    "collapsed": false,
    "deletable": true,
    "editable": true
   },
   "outputs": [
    {
     "name": "stdout",
     "output_type": "stream",
     "text": [
      "Number of faces detected: 1\n"
     ]
    },
    {
     "name": "stderr",
     "output_type": "stream",
     "text": [
      "/usr/local/envs/py3env/lib/python3.5/site-packages/matplotlib/font_manager.py:1320: UserWarning: findfont: Font family ['sans-serif'] not found. Falling back to DejaVu Sans\n",
      "  (prop.get_family(), self.defaultFamily[fontext]))\n"
     ]
    },
    {
     "data": {
      "image/png": "[encoded data removed]",
      "text/plain": [
       "<matplotlib.figure.Figure at 0x7fbde04fb940>"
      ]
     },
     "metadata": {},
     "output_type": "display_data"
    }
   ],
   "source": [
    "import cv2                \n",
    "import matplotlib.pyplot as plt                        \n",
    "%matplotlib inline                               \n",
    "\n",
    "# extract pre-trained face detector\n",
    "face_cascade = cv2.CascadeClassifier('haarcascades/haarcascade_frontalface_alt.xml')\n",
    "\n",
    "# load color (BGR) image\n",
    "img = cv2.imread(human_files[11])\n",
    "# convert BGR image to grayscale\n",
    "gray = cv2.cvtColor(img, cv2.COLOR_BGR2GRAY)\n",
    "\n",
    "# find faces in image\n",
    "faces = face_cascade.detectMultiScale(gray)\n",
    "\n",
    "# print number of faces detected in the image\n",
    "print('Number of faces detected:', len(faces))\n",
    "\n",
    "# get bounding box for each detected face\n",
    "for (x,y,w,h) in faces:\n",
    "    # add bounding box to color image\n",
    "    cv2.rectangle(img,(x,y),(x+w,y+h),(255,0,0),2)\n",
    "    \n",
    "# convert BGR image to RGB for plotting\n",
    "cv_rgb = cv2.cvtColor(img, cv2.COLOR_BGR2RGB)\n",
    "\n",
    "# display the image, along with bounding box\n",
    "plt.imshow(cv_rgb)\n",
    "plt.show()"
   ]
  },
  {
   "cell_type": "markdown",
   "metadata": {
    "deletable": true,
    "editable": true
   },
   "source": [
    "Before using any of the face detectors, it is standard procedure to convert the images to grayscale.  The `detectMultiScale` function executes the classifier stored in `face_cascade` and takes the grayscale image as a parameter.  \n",
    "\n",
    "In the above code, `faces` is a numpy array of detected faces, where each row corresponds to a detected face.  Each detected face is a 1D array with four entries that specifies the bounding box of the detected face.  The first two entries in the array (extracted in the above code as `x` and `y`) specify the horizontal and vertical positions of the top left corner of the bounding box.  The last two entries in the array (extracted here as `w` and `h`) specify the width and height of the box.\n",
    "\n",
    "### Write a Human Face Detector\n",
    "\n",
    "We can use this procedure to write a function that returns `True` if a human face is detected in an image and `False` otherwise.  This function, aptly named `face_detector`, takes a string-valued file path to an image as input and appears in the code block below."
   ]
  },
  {
   "cell_type": "code",
   "execution_count": 10,
   "metadata": {
    "collapsed": true,
    "deletable": true,
    "editable": true
   },
   "outputs": [],
   "source": [
    "# returns \"True\" if face is detected in image stored at img_path\n",
    "def face_detector(img_path):\n",
    "    img = cv2.imread(img_path)\n",
    "    gray = cv2.cvtColor(img, cv2.COLOR_BGR2GRAY)\n",
    "    faces = face_cascade.detectMultiScale(gray)\n",
    "    return len(faces) > 0"
   ]
  },
  {
   "cell_type": "markdown",
   "metadata": {
    "deletable": true,
    "editable": true
   },
   "source": [
    "### (IMPLEMENTATION) Assess the Human Face Detector\n",
    "\n",
    "__Question 1:__ Use the code cell below to test the performance of the `face_detector` function.  \n",
    "- What percentage of the first 100 images in `human_files` have a detected human face?  \n",
    "- What percentage of the first 100 images in `dog_files` have a detected human face? \n",
    "\n",
    "Ideally, we would like 100% of human images with a detected face and 0% of dog images with a detected face.  You will see that our algorithm falls short of this goal, but still gives acceptable performance.  We extract the file paths for the first 100 images from each of the datasets and store them in the numpy arrays `human_files_short` and `dog_files_short`.\n",
    "\n",
    "__ Answer:__  98% of human faces were correctly  detected form first 100 human files. But 12% of dog images were detected as human face from 100 dog files."
   ]
  },
  {
   "cell_type": "code",
   "execution_count": 11,
   "metadata": {
    "collapsed": false,
    "deletable": true,
    "editable": true
   },
   "outputs": [
    {
     "name": "stdout",
     "output_type": "stream",
     "text": [
      "Percentage of the first 100 images in human_files have a detected human face: 98\n",
      "Percentage of the first 100 images in dog_files have a detected human face: 12\n"
     ]
    }
   ],
   "source": [
    "human_files_short = human_files[:100]\n",
    "dog_files_short = train_files[:100]\n",
    "\n",
    "\n",
    "## Test the performance of the face_detector algorithm \n",
    "## on the images in human_files_short and dog_files_short.\n",
    "human_counter = 0\n",
    "dog_counter = 0\n",
    "\n",
    "for face in human_files_short :\n",
    "  if face_detector(face) == True :\n",
    "    human_counter = human_counter + 1\n",
    "    \n",
    "for face in dog_files_short :\n",
    "  if face_detector(face) == True :\n",
    "    dog_counter = dog_counter + 1\n",
    "\n",
    "print(\"Percentage of the first 100 images in human_files have a detected human face: {}\".format(human_counter))\n",
    "print(\"Percentage of the first 100 images in dog_files have a detected human face: {}\".format(dog_counter))"
   ]
  },
  {
   "cell_type": "markdown",
   "metadata": {
    "deletable": true,
    "editable": true
   },
   "source": [
    "__Question 2:__ This algorithmic choice necessitates that we communicate to the user that we accept human images only when they provide a clear view of a face (otherwise, we risk having unneccessarily frustrated users!). In your opinion, is this a reasonable expectation to pose on the user? If not, can you think of a way to detect humans in images that does not necessitate an image with a clearly presented face?\n",
    "\n",
    "__Answer:__  I do not think, it is a resonable expection to pose on a user only to provide images with clear view of a face. We could use other CNN tecniques to detecta human face, even if its no clearly displayed in the immage.\n",
    "\n",
    "We suggest the face detector from OpenCV as a potential way to detect human images in your algorithm, but you are free to explore other approaches, especially approaches that make use of deep learning :).  Please use the code cell below to design and test your own face detection algorithm.  If you decide to pursue this _optional_ task, report performance on each of the datasets."
   ]
  },
  {
   "cell_type": "code",
   "execution_count": null,
   "metadata": {
    "collapsed": true,
    "deletable": true,
    "editable": true
   },
   "outputs": [],
   "source": [
    "## (Optional) TODO: Report the performance of another  \n",
    "## face detection algorithm on the LFW dataset\n",
    "### Feel free to use as many code cells as needed."
   ]
  },
  {
   "cell_type": "markdown",
   "metadata": {
    "deletable": true,
    "editable": true
   },
   "source": [
    "---\n",
    "<a id='step2'></a>\n",
    "## Step 2: Detect Dogs\n",
    "\n",
    "In this section, we use a pre-trained [ResNet-50](http://ethereon.github.io/netscope/#/gist/db945b393d40bfa26006) model to detect dogs in images.  Our first line of code downloads the ResNet-50 model, along with weights that have been trained on [ImageNet](http://www.image-net.org/), a very large, very popular dataset used for image classification and other vision tasks.  ImageNet contains over 10 million URLs, each linking to an image containing an object from one of [1000 categories](https://gist.github.com/yrevar/942d3a0ac09ec9e5eb3a).  Given an image, this pre-trained ResNet-50 model returns a prediction (derived from the available categories in ImageNet) for the object that is contained in the image."
   ]
  },
  {
   "cell_type": "code",
   "execution_count": 12,
   "metadata": {
    "collapsed": false,
    "deletable": true,
    "editable": true
   },
   "outputs": [],
   "source": [
    "from keras.applications.resnet50 import ResNet50\n",
    "\n",
    "# define ResNet50 model\n",
    "ResNet50_model = ResNet50(weights='imagenet')"
   ]
  },
  {
   "cell_type": "markdown",
   "metadata": {
    "deletable": true,
    "editable": true
   },
   "source": [
    "### Pre-process the Data\n",
    "\n",
    "When using TensorFlow as backend, Keras CNNs require a 4D array (which we'll also refer to as a 4D tensor) as input, with shape\n",
    "\n",
    "$$\n",
    "(\\text{nb_samples}, \\text{rows}, \\text{columns}, \\text{channels}),\n",
    "$$\n",
    "\n",
    "where `nb_samples` corresponds to the total number of images (or samples), and `rows`, `columns`, and `channels` correspond to the number of rows, columns, and channels for each image, respectively.  \n",
    "\n",
    "The `path_to_tensor` function below takes a string-valued file path to a color image as input and returns a 4D tensor suitable for supplying to a Keras CNN.  The function first loads the image and resizes it to a square image that is $224 \\times 224$ pixels.  Next, the image is converted to an array, which is then resized to a 4D tensor.  In this case, since we are working with color images, each image has three channels.  Likewise, since we are processing a single image (or sample), the returned tensor will always have shape\n",
    "\n",
    "$$\n",
    "(1, 224, 224, 3).\n",
    "$$\n",
    "\n",
    "The `paths_to_tensor` function takes a numpy array of string-valued image paths as input and returns a 4D tensor with shape \n",
    "\n",
    "$$\n",
    "(\\text{nb_samples}, 224, 224, 3).\n",
    "$$\n",
    "\n",
    "Here, `nb_samples` is the number of samples, or number of images, in the supplied array of image paths.  It is best to think of `nb_samples` as the number of 3D tensors (where each 3D tensor corresponds to a different image) in your dataset!"
   ]
  },
  {
   "cell_type": "code",
   "execution_count": 5,
   "metadata": {
    "collapsed": false,
    "deletable": true,
    "editable": true
   },
   "outputs": [],
   "source": [
    "from keras.preprocessing import image                  \n",
    "from tqdm import tqdm\n",
    "\n",
    "def path_to_tensor(img_path):\n",
    "    # loads RGB image as PIL.Image.Image type\n",
    "    img = image.load_img(img_path, target_size=(224, 224))\n",
    "    # convert PIL.Image.Image type to 3D tensor with shape (224, 224, 3)\n",
    "    x = image.img_to_array(img)\n",
    "    # convert 3D tensor to 4D tensor with shape (1, 224, 224, 3) and return 4D tensor\n",
    "    return np.expand_dims(x, axis=0)\n",
    "\n",
    "def paths_to_tensor(img_paths):\n",
    "    list_of_tensors = [path_to_tensor(img_path) for img_path in tqdm(img_paths)]\n",
    "    return np.vstack(list_of_tensors)"
   ]
  },
  {
   "cell_type": "markdown",
   "metadata": {
    "deletable": true,
    "editable": true
   },
   "source": [
    "### Making Predictions with ResNet-50\n",
    "\n",
    "Getting the 4D tensor ready for ResNet-50, and for any other pre-trained model in Keras, requires some additional processing.  First, the RGB image is converted to BGR by reordering the channels.  All pre-trained models have the additional normalization step that the mean pixel (expressed in RGB as $[103.939, 116.779, 123.68]$ and calculated from all pixels in all images in ImageNet) must be subtracted from every pixel in each image.  This is implemented in the imported function `preprocess_input`.  If you're curious, you can check the code for `preprocess_input` [here](https://github.com/fchollet/keras/blob/master/keras/applications/imagenet_utils.py).\n",
    "\n",
    "Now that we have a way to format our image for supplying to ResNet-50, we are now ready to use the model to extract the predictions.  This is accomplished with the `predict` method, which returns an array whose $i$-th entry is the model's predicted probability that the image belongs to the $i$-th ImageNet category.  This is implemented in the `ResNet50_predict_labels` function below.\n",
    "\n",
    "By taking the argmax of the predicted probability vector, we obtain an integer corresponding to the model's predicted object class, which we can identify with an object category through the use of this [dictionary](https://gist.github.com/yrevar/942d3a0ac09ec9e5eb3a). "
   ]
  },
  {
   "cell_type": "code",
   "execution_count": 14,
   "metadata": {
    "collapsed": true,
    "deletable": true,
    "editable": true
   },
   "outputs": [],
   "source": [
    "from keras.applications.resnet50 import preprocess_input, decode_predictions\n",
    "\n",
    "def ResNet50_predict_labels(img_path):\n",
    "    # returns prediction vector for image located at img_path\n",
    "    img = preprocess_input(path_to_tensor(img_path))\n",
    "    return np.argmax(ResNet50_model.predict(img))"
   ]
  },
  {
   "cell_type": "markdown",
   "metadata": {
    "deletable": true,
    "editable": true
   },
   "source": [
    "### Write a Dog Detector\n",
    "\n",
    "While looking at the [dictionary](https://gist.github.com/yrevar/942d3a0ac09ec9e5eb3a), you will notice that the categories corresponding to dogs appear in an uninterrupted sequence and correspond to dictionary keys 151-268, inclusive, to include all categories from `'Chihuahua'` to `'Mexican hairless'`.  Thus, in order to check to see if an image is predicted to contain a dog by the pre-trained ResNet-50 model, we need only check if the `ResNet50_predict_labels` function above returns a value between 151 and 268 (inclusive).\n",
    "\n",
    "We use these ideas to complete the `dog_detector` function below, which returns `True` if a dog is detected in an image (and `False` if not)."
   ]
  },
  {
   "cell_type": "code",
   "execution_count": 15,
   "metadata": {
    "collapsed": true,
    "deletable": true,
    "editable": true
   },
   "outputs": [],
   "source": [
    "### returns \"True\" if a dog is detected in the image stored at img_path\n",
    "def dog_detector(img_path):\n",
    "    prediction = ResNet50_predict_labels(img_path)\n",
    "    return ((prediction <= 268) & (prediction >= 151)) "
   ]
  },
  {
   "cell_type": "markdown",
   "metadata": {
    "deletable": true,
    "editable": true
   },
   "source": [
    "### (IMPLEMENTATION) Assess the Dog Detector\n",
    "\n",
    "__Question 3:__ Use the code cell below to test the performance of your `dog_detector` function.  \n",
    "- What percentage of the images in `human_files_short` have a detected dog?  \n",
    "- What percentage of the images in `dog_files_short` have a detected dog?\n",
    "\n",
    "__Answer:__ "
   ]
  },
  {
   "cell_type": "code",
   "execution_count": 16,
   "metadata": {
    "collapsed": false,
    "deletable": true,
    "editable": true
   },
   "outputs": [
    {
     "name": "stdout",
     "output_type": "stream",
     "text": [
      "Percentage of the images in human_files_short have a detected dog: 3\n",
      "Percentage of the images in dog_files_short have a detected dog: 100\n"
     ]
    }
   ],
   "source": [
    "### TODO: Test the performance of the dog_detector function\n",
    "### on the images in human_files_short and dog_files_short.\n",
    "\n",
    "human_counter1 = 0\n",
    "dog_counter1 = 0\n",
    "\n",
    "for face in human_files_short :\n",
    "  if dog_detector(face) == True :\n",
    "    human_counter1 = human_counter1 + 1\n",
    "    \n",
    "for face in dog_files_short :\n",
    "  if dog_detector(face) == True :\n",
    "    dog_counter1 = dog_counter1 + 1\n",
    "\n",
    "print(\"Percentage of the images in human_files_short have a detected dog: {}\".format(human_counter1))\n",
    "print(\"Percentage of the images in dog_files_short have a detected dog: {}\".format(dog_counter1))"
   ]
  },
  {
   "cell_type": "markdown",
   "metadata": {
    "deletable": true,
    "editable": true
   },
   "source": [
    "---\n",
    "<a id='step3'></a>\n",
    "## Step 3: Create a CNN to Classify Dog Breeds (from Scratch)\n",
    "\n",
    "Now that we have functions for detecting humans and dogs in images, we need a way to predict breed from images.  In this step, you will create a CNN that classifies dog breeds.  You must create your CNN _from scratch_ (so, you can't use transfer learning _yet_!), and you must attain a test accuracy of at least 1%.  In Step 5 of this notebook, you will have the opportunity to use transfer learning to create a CNN that attains greatly improved accuracy.\n",
    "\n",
    "Be careful with adding too many trainable layers!  More parameters means longer training, which means you are more likely to need a GPU to accelerate the training process.  Thankfully, Keras provides a handy estimate of the time that each epoch is likely to take; you can extrapolate this estimate to figure out how long it will take for your algorithm to train. \n",
    "\n",
    "We mention that the task of assigning breed to dogs from images is considered exceptionally challenging.  To see why, consider that *even a human* would have great difficulty in distinguishing between a Brittany and a Welsh Springer Spaniel.  \n",
    "\n",
    "Brittany | Welsh Springer Spaniel\n",
    "- | - \n",
    "<img src=\"images/Brittany_02625.jpg\" width=\"100\"> | <img src=\"images/Welsh_springer_spaniel_08203.jpg\" width=\"200\">\n",
    "\n",
    "It is not difficult to find other dog breed pairs with minimal inter-class variation (for instance, Curly-Coated Retrievers and American Water Spaniels).  \n",
    "\n",
    "Curly-Coated Retriever | American Water Spaniel\n",
    "- | -\n",
    "<img src=\"images/Curly-coated_retriever_03896.jpg\" width=\"200\"> | <img src=\"images/American_water_spaniel_00648.jpg\" width=\"200\">\n",
    "\n",
    "\n",
    "Likewise, recall that labradors come in yellow, chocolate, and black.  Your vision-based algorithm will have to conquer this high intra-class variation to determine how to classify all of these different shades as the same breed.  \n",
    "\n",
    "Yellow Labrador | Chocolate Labrador | Black Labrador\n",
    "- | -\n",
    "<img src=\"images/Labrador_retriever_06457.jpg\" width=\"150\"> | <img src=\"images/Labrador_retriever_06455.jpg\" width=\"240\"> | <img src=\"images/Labrador_retriever_06449.jpg\" width=\"220\">\n",
    "\n",
    "We also mention that random chance presents an exceptionally low bar: setting aside the fact that the classes are slightly imabalanced, a random guess will provide a correct answer roughly 1 in 133 times, which corresponds to an accuracy of less than 1%.  \n",
    "\n",
    "Remember that the practice is far ahead of the theory in deep learning.  Experiment with many different architectures, and trust your intuition.  And, of course, have fun! \n",
    "\n",
    "### Pre-process the Data\n",
    "\n",
    "We rescale the images by dividing every pixel in every image by 255."
   ]
  },
  {
   "cell_type": "code",
   "execution_count": 6,
   "metadata": {
    "collapsed": false,
    "deletable": true,
    "editable": true
   },
   "outputs": [
    {
     "name": "stderr",
     "output_type": "stream",
     "text": [
      "100%|██████████| 6680/6680 [01:29<00:00, 74.70it/s]\n",
      "100%|██████████| 835/835 [00:15<00:00, 54.01it/s]\n",
      "100%|██████████| 836/836 [00:18<00:00, 44.86it/s]\n"
     ]
    }
   ],
   "source": [
    "from PIL import ImageFile                            \n",
    "ImageFile.LOAD_TRUNCATED_IMAGES = True                 \n",
    "\n",
    "# pre-process the data for Keras\n",
    "train_tensors = paths_to_tensor(train_files).astype('float32')/255\n",
    "valid_tensors = paths_to_tensor(valid_files).astype('float32')/255\n",
    "test_tensors = paths_to_tensor(test_files).astype('float32')/255"
   ]
  },
  {
   "cell_type": "markdown",
   "metadata": {
    "deletable": true,
    "editable": true
   },
   "source": [
    "### (IMPLEMENTATION) Model Architecture\n",
    "\n",
    "Create a CNN to classify dog breed.  At the end of your code cell block, summarize the layers of your model by executing the line:\n",
    "    \n",
    "        model.summary()\n",
    "\n",
    "We have imported some Python modules to get you started, but feel free to import as many modules as you need.  If you end up getting stuck, here's a hint that specifies a model that trains relatively fast on CPU and attains >1% test accuracy in 5 epochs:\n",
    "\n",
    "![Sample CNN](images/sample_cnn.png)\n",
    "           \n",
    "__Question 4:__ Outline the steps you took to get to your final CNN architecture and your reasoning at each step.  If you chose to use the hinted architecture above, describe why you think that CNN architecture should work well for the image classification task.\n",
    "\n",
    "__Answer:__ "
   ]
  },
  {
   "cell_type": "code",
   "execution_count": 19,
   "metadata": {
    "collapsed": false,
    "deletable": true,
    "editable": true
   },
   "outputs": [
    {
     "data": {
      "text/plain": [
       "(835, 224, 224, 3)"
      ]
     },
     "execution_count": 19,
     "metadata": {},
     "output_type": "execute_result"
    }
   ],
   "source": [
    "valid_tensors.shape"
   ]
  },
  {
   "cell_type": "code",
   "execution_count": 9,
   "metadata": {
    "collapsed": false,
    "deletable": true,
    "editable": true
   },
   "outputs": [
    {
     "name": "stdout",
     "output_type": "stream",
     "text": [
      "_________________________________________________________________\n",
      "Layer (type)                 Output Shape              Param #   \n",
      "=================================================================\n",
      "conv2d_1 (Conv2D)            (None, 222, 222, 16)      448       \n",
      "_________________________________________________________________\n",
      "batch_normalization_1 (Batch (None, 222, 222, 16)      64        \n",
      "_________________________________________________________________\n",
      "max_pooling2d_1 (MaxPooling2 (None, 111, 111, 16)      0         \n",
      "_________________________________________________________________\n",
      "conv2d_2 (Conv2D)            (None, 109, 109, 32)      4640      \n",
      "_________________________________________________________________\n",
      "batch_normalization_2 (Batch (None, 109, 109, 32)      128       \n",
      "_________________________________________________________________\n",
      "max_pooling2d_2 (MaxPooling2 (None, 54, 54, 32)        0         \n",
      "_________________________________________________________________\n",
      "conv2d_3 (Conv2D)            (None, 52, 52, 64)        18496     \n",
      "_________________________________________________________________\n",
      "batch_normalization_3 (Batch (None, 52, 52, 64)        256       \n",
      "_________________________________________________________________\n",
      "max_pooling2d_3 (MaxPooling2 (None, 26, 26, 64)        0         \n",
      "_________________________________________________________________\n",
      "global_average_pooling2d_1 ( (None, 64)                0         \n",
      "_________________________________________________________________\n",
      "dropout_1 (Dropout)          (None, 64)                0         \n",
      "_________________________________________________________________\n",
      "dense_1 (Dense)              (None, 133)               8645      \n",
      "=================================================================\n",
      "Total params: 32,677\n",
      "Trainable params: 32,453\n",
      "Non-trainable params: 224\n",
      "_________________________________________________________________\n"
     ]
    }
   ],
   "source": [
    "from keras.layers import Conv2D, MaxPooling2D, GlobalAveragePooling2D\n",
    "from keras.layers import Dropout, Flatten, Dense, BatchNormalization\n",
    "from keras.models import Sequential\n",
    "from keras import regularizers\n",
    "\n",
    "model = Sequential()\n",
    "\n",
    "### TODO: Define your architecture.\n",
    "weight_decay = 1e-4\n",
    "model.add(Conv2D(filters=16, kernel_size=3, activation='relu', input_shape=(224,224, 3)))\n",
    "model.add(BatchNormalization())\n",
    "model.add(MaxPooling2D(pool_size=2))\n",
    "\n",
    "model.add(Conv2D(filters=32, kernel_size=3, activation='relu'))\n",
    "model.add(BatchNormalization())\n",
    "model.add(MaxPooling2D(pool_size=2))\n",
    "\n",
    "model.add(Conv2D(filters=64, kernel_size=3, activation='relu'))\n",
    "model.add(BatchNormalization())\n",
    "model.add(MaxPooling2D(pool_size=2))\n",
    "\n",
    "model.add(GlobalAveragePooling2D())\n",
    "\n",
    "model.add(Dropout(0.3))\n",
    "model.add(Dense(133, activation='sigmoid'))\n",
    "\n",
    "model.summary()"
   ]
  },
  {
   "cell_type": "markdown",
   "metadata": {
    "deletable": true,
    "editable": true
   },
   "source": [
    "### Compile the Model"
   ]
  },
  {
   "cell_type": "code",
   "execution_count": 36,
   "metadata": {
    "collapsed": true,
    "deletable": true,
    "editable": true
   },
   "outputs": [],
   "source": [
    "model.compile(optimizer='rmsprop', loss='categorical_crossentropy', metrics=['accuracy'])"
   ]
  },
  {
   "cell_type": "markdown",
   "metadata": {
    "deletable": true,
    "editable": true
   },
   "source": [
    "### (IMPLEMENTATION) Train the Model\n",
    "\n",
    "Train your model in the code cell below.  Use model checkpointing to save the model that attains the best validation loss.\n",
    "\n",
    "You are welcome to [augment the training data](https://blog.keras.io/building-powerful-image-classification-models-using-very-little-data.html), but this is not a requirement. "
   ]
  },
  {
   "cell_type": "code",
   "execution_count": 37,
   "metadata": {
    "collapsed": false,
    "deletable": true,
    "editable": true
   },
   "outputs": [
    {
     "name": "stdout",
     "output_type": "stream",
     "text": [
      "Train on 6680 samples, validate on 835 samples\n",
      "Epoch 1/10\n",
      " - 25s - loss: 4.8466 - acc: 0.0166 - val_loss: 4.7850 - val_acc: 0.0216\n",
      "\n",
      "Epoch 00001: val_loss improved from inf to 4.78501, saving model to saved_models/weights.best.from_scratch.hdf5\n",
      "Epoch 2/10\n",
      " - 23s - loss: 4.7035 - acc: 0.0331 - val_loss: 4.6611 - val_acc: 0.0311\n",
      "\n",
      "Epoch 00002: val_loss improved from 4.78501 to 4.66114, saving model to saved_models/weights.best.from_scratch.hdf5\n",
      "Epoch 3/10\n",
      " - 23s - loss: 4.6088 - acc: 0.0352 - val_loss: 4.6618 - val_acc: 0.0204\n",
      "\n",
      "Epoch 00003: val_loss did not improve from 4.66114\n",
      "Epoch 4/10\n",
      " - 23s - loss: 4.5583 - acc: 0.0439 - val_loss: 4.6446 - val_acc: 0.0323\n",
      "\n",
      "Epoch 00004: val_loss improved from 4.66114 to 4.64463, saving model to saved_models/weights.best.from_scratch.hdf5\n",
      "Epoch 5/10\n",
      " - 23s - loss: 4.4933 - acc: 0.0512 - val_loss: 4.5176 - val_acc: 0.0407\n",
      "\n",
      "Epoch 00005: val_loss improved from 4.64463 to 4.51760, saving model to saved_models/weights.best.from_scratch.hdf5\n",
      "Epoch 6/10\n",
      " - 23s - loss: 4.4323 - acc: 0.0597 - val_loss: 4.4721 - val_acc: 0.0479\n",
      "\n",
      "Epoch 00006: val_loss improved from 4.51760 to 4.47214, saving model to saved_models/weights.best.from_scratch.hdf5\n",
      "Epoch 7/10\n",
      " - 23s - loss: 4.3672 - acc: 0.0641 - val_loss: 5.1769 - val_acc: 0.0455\n",
      "\n",
      "Epoch 00007: val_loss did not improve from 4.47214\n",
      "Epoch 8/10\n",
      " - 23s - loss: 4.3301 - acc: 0.0662 - val_loss: 4.5640 - val_acc: 0.0491\n",
      "\n",
      "Epoch 00008: val_loss did not improve from 4.47214\n",
      "Epoch 9/10\n",
      " - 23s - loss: 4.2704 - acc: 0.0768 - val_loss: 4.7091 - val_acc: 0.0431\n",
      "\n",
      "Epoch 00009: val_loss did not improve from 4.47214\n",
      "Epoch 10/10\n",
      " - 23s - loss: 4.2127 - acc: 0.0834 - val_loss: 4.3313 - val_acc: 0.0503\n",
      "\n",
      "Epoch 00010: val_loss improved from 4.47214 to 4.33128, saving model to saved_models/weights.best.from_scratch.hdf5\n"
     ]
    },
    {
     "data": {
      "text/plain": [
       "<keras.callbacks.History at 0x7fa6a766f898>"
      ]
     },
     "execution_count": 37,
     "metadata": {},
     "output_type": "execute_result"
    }
   ],
   "source": [
    "from keras.callbacks import ModelCheckpoint  \n",
    "\n",
    "### TODO: specify the number of epochs that you would like to use to train the model.\n",
    "\n",
    "epochs = 10\n",
    "\n",
    "### Do NOT modify the code below this line.\n",
    "\n",
    "checkpointer = ModelCheckpoint(filepath='saved_models/weights.best.from_scratch.hdf5', \n",
    "                               verbose=1, save_best_only=True)\n",
    "\n",
    "model.fit(train_tensors, train_targets, \n",
    "          validation_data=(valid_tensors, valid_targets),\n",
    "          epochs=epochs, batch_size=20, callbacks=[checkpointer], verbose=2)"
   ]
  },
  {
   "cell_type": "markdown",
   "metadata": {
    "deletable": true,
    "editable": true
   },
   "source": [
    "### Load the Model with the Best Validation Loss"
   ]
  },
  {
   "cell_type": "code",
   "execution_count": 38,
   "metadata": {
    "collapsed": true,
    "deletable": true,
    "editable": true
   },
   "outputs": [],
   "source": [
    "model.load_weights('saved_models/weights.best.from_scratch.hdf5')"
   ]
  },
  {
   "cell_type": "markdown",
   "metadata": {
    "deletable": true,
    "editable": true
   },
   "source": [
    "### Test the Model\n",
    "\n",
    "Try out your model on the test dataset of dog images.  Ensure that your test accuracy is greater than 1%."
   ]
  },
  {
   "cell_type": "code",
   "execution_count": 39,
   "metadata": {
    "collapsed": false,
    "deletable": true,
    "editable": true
   },
   "outputs": [
    {
     "name": "stdout",
     "output_type": "stream",
     "text": [
      "Test accuracy: 6.1005%\n"
     ]
    }
   ],
   "source": [
    "# get index of predicted dog breed for each image in test set\n",
    "dog_breed_predictions = [np.argmax(model.predict(np.expand_dims(tensor, axis=0))) for tensor in test_tensors]\n",
    "\n",
    "# report test accuracy\n",
    "test_accuracy = 100*np.sum(np.array(dog_breed_predictions)==np.argmax(test_targets, axis=1))/len(dog_breed_predictions)\n",
    "print('Test accuracy: %.4f%%' % test_accuracy)"
   ]
  },
  {
   "cell_type": "markdown",
   "metadata": {
    "deletable": true,
    "editable": true
   },
   "source": [
    "---\n",
    "<a id='step4'></a>\n",
    "## Step 4: Use a CNN to Classify Dog Breeds\n",
    "\n",
    "To reduce training time without sacrificing accuracy, we show you how to train a CNN using transfer learning.  In the following step, you will get a chance to use transfer learning to train your own CNN.\n",
    "\n",
    "### Obtain Bottleneck Features"
   ]
  },
  {
   "cell_type": "code",
   "execution_count": 44,
   "metadata": {
    "collapsed": true,
    "deletable": true,
    "editable": true
   },
   "outputs": [],
   "source": [
    "bottleneck_features = np.load('bottleneck_features/DogVGG16Data.npz')\n",
    "train_VGG16 = bottleneck_features['train']\n",
    "valid_VGG16 = bottleneck_features['valid']\n",
    "test_VGG16 = bottleneck_features['test']"
   ]
  },
  {
   "cell_type": "markdown",
   "metadata": {
    "deletable": true,
    "editable": true
   },
   "source": [
    "### Model Architecture\n",
    "\n",
    "The model uses the the pre-trained VGG-16 model as a fixed feature extractor, where the last convolutional output of VGG-16 is fed as input to our model.  We only add a global average pooling layer and a fully connected layer, where the latter contains one node for each dog category and is equipped with a softmax."
   ]
  },
  {
   "cell_type": "code",
   "execution_count": 45,
   "metadata": {
    "collapsed": false,
    "deletable": true,
    "editable": true
   },
   "outputs": [
    {
     "name": "stdout",
     "output_type": "stream",
     "text": [
      "_________________________________________________________________\n",
      "Layer (type)                 Output Shape              Param #   \n",
      "=================================================================\n",
      "global_average_pooling2d_11  (None, 512)               0         \n",
      "_________________________________________________________________\n",
      "dense_12 (Dense)             (None, 133)               68229     \n",
      "=================================================================\n",
      "Total params: 68,229\n",
      "Trainable params: 68,229\n",
      "Non-trainable params: 0\n",
      "_________________________________________________________________\n"
     ]
    }
   ],
   "source": [
    "VGG16_model = Sequential()\n",
    "VGG16_model.add(GlobalAveragePooling2D(input_shape=train_VGG16.shape[1:]))\n",
    "VGG16_model.add(Dense(133, activation='softmax'))\n",
    "\n",
    "VGG16_model.summary()"
   ]
  },
  {
   "cell_type": "markdown",
   "metadata": {
    "deletable": true,
    "editable": true
   },
   "source": [
    "### Compile the Model"
   ]
  },
  {
   "cell_type": "code",
   "execution_count": 46,
   "metadata": {
    "collapsed": true,
    "deletable": true,
    "editable": true
   },
   "outputs": [],
   "source": [
    "VGG16_model.compile(loss='categorical_crossentropy', optimizer='rmsprop', metrics=['accuracy'])"
   ]
  },
  {
   "cell_type": "markdown",
   "metadata": {
    "deletable": true,
    "editable": true
   },
   "source": [
    "### Train the Model"
   ]
  },
  {
   "cell_type": "code",
   "execution_count": 50,
   "metadata": {
    "collapsed": false,
    "deletable": true,
    "editable": true
   },
   "outputs": [
    {
     "name": "stdout",
     "output_type": "stream",
     "text": [
      "Train on 6680 samples, validate on 835 samples\n",
      "Epoch 1/100\n",
      " - 2s - loss: 5.8368 - acc: 0.6250 - val_loss: 6.9629 - val_acc: 0.4790\n",
      "\n",
      "Epoch 00001: val_loss improved from inf to 6.96292, saving model to saved_models/weights.best.VGG16.hdf5\n",
      "Epoch 2/100\n",
      " - 2s - loss: 5.7754 - acc: 0.6319 - val_loss: 6.9722 - val_acc: 0.4743\n",
      "\n",
      "Epoch 00002: val_loss did not improve from 6.96292\n",
      "Epoch 3/100\n",
      " - 2s - loss: 5.7604 - acc: 0.6368 - val_loss: 6.9118 - val_acc: 0.4862\n",
      "\n",
      "Epoch 00003: val_loss improved from 6.96292 to 6.91180, saving model to saved_models/weights.best.VGG16.hdf5\n",
      "Epoch 4/100\n",
      " - 2s - loss: 5.7495 - acc: 0.6364 - val_loss: 6.8495 - val_acc: 0.4934\n",
      "\n",
      "Epoch 00004: val_loss improved from 6.91180 to 6.84955, saving model to saved_models/weights.best.VGG16.hdf5\n",
      "Epoch 5/100\n",
      " - 2s - loss: 5.7393 - acc: 0.6380 - val_loss: 6.8256 - val_acc: 0.4994\n",
      "\n",
      "Epoch 00005: val_loss improved from 6.84955 to 6.82557, saving model to saved_models/weights.best.VGG16.hdf5\n",
      "Epoch 6/100\n",
      " - 2s - loss: 5.7337 - acc: 0.6400 - val_loss: 6.9081 - val_acc: 0.4934\n",
      "\n",
      "Epoch 00006: val_loss did not improve from 6.82557\n",
      "Epoch 7/100\n",
      " - 2s - loss: 5.7312 - acc: 0.6412 - val_loss: 6.8990 - val_acc: 0.4934\n",
      "\n",
      "Epoch 00007: val_loss did not improve from 6.82557\n",
      "Epoch 8/100\n",
      " - 2s - loss: 5.7280 - acc: 0.6424 - val_loss: 6.9543 - val_acc: 0.4874\n",
      "\n",
      "Epoch 00008: val_loss did not improve from 6.82557\n",
      "Epoch 9/100\n",
      " - 2s - loss: 5.7271 - acc: 0.6430 - val_loss: 6.8206 - val_acc: 0.4898\n",
      "\n",
      "Epoch 00009: val_loss improved from 6.82557 to 6.82062, saving model to saved_models/weights.best.VGG16.hdf5\n",
      "Epoch 10/100\n",
      " - 2s - loss: 5.7237 - acc: 0.6433 - val_loss: 6.9127 - val_acc: 0.4898\n",
      "\n",
      "Epoch 00010: val_loss did not improve from 6.82062\n",
      "Epoch 11/100\n",
      " - 2s - loss: 5.7242 - acc: 0.6433 - val_loss: 6.9709 - val_acc: 0.4838\n",
      "\n",
      "Epoch 00011: val_loss did not improve from 6.82062\n",
      "Epoch 12/100\n",
      " - 2s - loss: 5.7260 - acc: 0.6428 - val_loss: 6.9847 - val_acc: 0.4922\n",
      "\n",
      "Epoch 00012: val_loss did not improve from 6.82062\n",
      "Epoch 13/100\n",
      " - 2s - loss: 5.7229 - acc: 0.6437 - val_loss: 6.8957 - val_acc: 0.4910\n",
      "\n",
      "Epoch 00013: val_loss did not improve from 6.82062\n",
      "Epoch 14/100\n",
      " - 2s - loss: 5.7186 - acc: 0.6431 - val_loss: 6.9914 - val_acc: 0.4946\n",
      "\n",
      "Epoch 00014: val_loss did not improve from 6.82062\n",
      "Epoch 15/100\n",
      " - 2s - loss: 5.6634 - acc: 0.6436 - val_loss: 6.8603 - val_acc: 0.5030\n",
      "\n",
      "Epoch 00015: val_loss did not improve from 6.82062\n",
      "Epoch 16/100\n",
      " - 2s - loss: 5.6211 - acc: 0.6481 - val_loss: 6.8414 - val_acc: 0.5126\n",
      "\n",
      "Epoch 00016: val_loss did not improve from 6.82062\n",
      "Epoch 17/100\n",
      " - 2s - loss: 5.6127 - acc: 0.6488 - val_loss: 6.7994 - val_acc: 0.5054\n",
      "\n",
      "Epoch 00017: val_loss improved from 6.82062 to 6.79945, saving model to saved_models/weights.best.VGG16.hdf5\n",
      "Epoch 18/100\n",
      " - 2s - loss: 5.6097 - acc: 0.6501 - val_loss: 6.8908 - val_acc: 0.4958\n",
      "\n",
      "Epoch 00018: val_loss did not improve from 6.79945\n",
      "Epoch 19/100\n",
      " - 2s - loss: 5.6037 - acc: 0.6507 - val_loss: 6.7930 - val_acc: 0.5066\n",
      "\n",
      "Epoch 00019: val_loss improved from 6.79945 to 6.79300, saving model to saved_models/weights.best.VGG16.hdf5\n",
      "Epoch 20/100\n",
      " - 2s - loss: 5.6019 - acc: 0.6516 - val_loss: 6.8612 - val_acc: 0.5006\n",
      "\n",
      "Epoch 00020: val_loss did not improve from 6.79300\n",
      "Epoch 21/100\n",
      " - 2s - loss: 5.5995 - acc: 0.6516 - val_loss: 6.8459 - val_acc: 0.5138\n",
      "\n",
      "Epoch 00021: val_loss did not improve from 6.79300\n",
      "Epoch 22/100\n",
      " - 2s - loss: 5.5971 - acc: 0.6518 - val_loss: 6.8334 - val_acc: 0.5030\n",
      "\n",
      "Epoch 00022: val_loss did not improve from 6.79300\n",
      "Epoch 23/100\n",
      " - 2s - loss: 5.5965 - acc: 0.6521 - val_loss: 6.8612 - val_acc: 0.4970\n",
      "\n",
      "Epoch 00023: val_loss did not improve from 6.79300\n",
      "Epoch 24/100\n",
      " - 2s - loss: 5.5945 - acc: 0.6519 - val_loss: 6.8962 - val_acc: 0.5018\n",
      "\n",
      "Epoch 00024: val_loss did not improve from 6.79300\n",
      "Epoch 25/100\n",
      " - 2s - loss: 5.5956 - acc: 0.6516 - val_loss: 6.9144 - val_acc: 0.5042\n",
      "\n",
      "Epoch 00025: val_loss did not improve from 6.79300\n",
      "Epoch 26/100\n",
      " - 2s - loss: 5.5914 - acc: 0.6518 - val_loss: 6.9112 - val_acc: 0.5006\n",
      "\n",
      "Epoch 00026: val_loss did not improve from 6.79300\n",
      "Epoch 27/100\n",
      " - 2s - loss: 5.5900 - acc: 0.6519 - val_loss: 6.8954 - val_acc: 0.4994\n",
      "\n",
      "Epoch 00027: val_loss did not improve from 6.79300\n",
      "Epoch 28/100\n",
      " - 2s - loss: 5.5717 - acc: 0.6507 - val_loss: 6.8968 - val_acc: 0.5018\n",
      "\n",
      "Epoch 00028: val_loss did not improve from 6.79300\n",
      "Epoch 29/100\n",
      " - 2s - loss: 5.5392 - acc: 0.6525 - val_loss: 6.9750 - val_acc: 0.4958\n",
      "\n",
      "Epoch 00029: val_loss did not improve from 6.79300\n",
      "Epoch 30/100\n",
      " - 2s - loss: 5.4986 - acc: 0.6527 - val_loss: 7.0762 - val_acc: 0.4862\n",
      "\n",
      "Epoch 00030: val_loss did not improve from 6.79300\n",
      "Epoch 31/100\n",
      " - 2s - loss: 5.2363 - acc: 0.6572 - val_loss: 6.7058 - val_acc: 0.4958\n",
      "\n",
      "Epoch 00031: val_loss improved from 6.79300 to 6.70576, saving model to saved_models/weights.best.VGG16.hdf5\n",
      "Epoch 32/100\n",
      " - 2s - loss: 5.0190 - acc: 0.6765 - val_loss: 6.5740 - val_acc: 0.5078\n",
      "\n",
      "Epoch 00032: val_loss improved from 6.70576 to 6.57395, saving model to saved_models/weights.best.VGG16.hdf5\n",
      "Epoch 33/100\n",
      " - 2s - loss: 4.9449 - acc: 0.6831 - val_loss: 6.4125 - val_acc: 0.5150\n",
      "\n",
      "Epoch 00033: val_loss improved from 6.57395 to 6.41246, saving model to saved_models/weights.best.VGG16.hdf5\n",
      "Epoch 34/100\n",
      " - 2s - loss: 4.8182 - acc: 0.6907 - val_loss: 6.3908 - val_acc: 0.5066\n",
      "\n",
      "Epoch 00034: val_loss improved from 6.41246 to 6.39082, saving model to saved_models/weights.best.VGG16.hdf5\n",
      "Epoch 35/100\n",
      " - 2s - loss: 4.7622 - acc: 0.6984 - val_loss: 6.3369 - val_acc: 0.5293\n",
      "\n",
      "Epoch 00035: val_loss improved from 6.39082 to 6.33695, saving model to saved_models/weights.best.VGG16.hdf5\n",
      "Epoch 36/100\n",
      " - 2s - loss: 4.7372 - acc: 0.7025 - val_loss: 6.2480 - val_acc: 0.5281\n",
      "\n",
      "Epoch 00036: val_loss improved from 6.33695 to 6.24804, saving model to saved_models/weights.best.VGG16.hdf5\n",
      "Epoch 37/100\n",
      " - 2s - loss: 4.6885 - acc: 0.7034 - val_loss: 6.2197 - val_acc: 0.5341\n",
      "\n",
      "Epoch 00037: val_loss improved from 6.24804 to 6.21973, saving model to saved_models/weights.best.VGG16.hdf5\n",
      "Epoch 38/100\n",
      " - 2s - loss: 4.6263 - acc: 0.7088 - val_loss: 6.2171 - val_acc: 0.5257\n",
      "\n",
      "Epoch 00038: val_loss improved from 6.21973 to 6.21711, saving model to saved_models/weights.best.VGG16.hdf5\n",
      "Epoch 39/100\n",
      " - 2s - loss: 4.6155 - acc: 0.7109 - val_loss: 6.1439 - val_acc: 0.5485\n",
      "\n",
      "Epoch 00039: val_loss improved from 6.21711 to 6.14389, saving model to saved_models/weights.best.VGG16.hdf5\n",
      "Epoch 40/100\n",
      " - 2s - loss: 4.5856 - acc: 0.7120 - val_loss: 6.1542 - val_acc: 0.5389\n",
      "\n",
      "Epoch 00040: val_loss did not improve from 6.14389\n",
      "Epoch 41/100\n",
      " - 2s - loss: 4.5515 - acc: 0.7144 - val_loss: 6.0539 - val_acc: 0.5413\n",
      "\n",
      "Epoch 00041: val_loss improved from 6.14389 to 6.05386, saving model to saved_models/weights.best.VGG16.hdf5\n",
      "Epoch 42/100\n",
      " - 2s - loss: 4.5435 - acc: 0.7150 - val_loss: 6.0960 - val_acc: 0.5437\n",
      "\n",
      "Epoch 00042: val_loss did not improve from 6.05386\n",
      "Epoch 43/100\n",
      " - 2s - loss: 4.5362 - acc: 0.7163 - val_loss: 6.0488 - val_acc: 0.5449\n",
      "\n",
      "Epoch 00043: val_loss improved from 6.05386 to 6.04876, saving model to saved_models/weights.best.VGG16.hdf5\n",
      "Epoch 44/100\n",
      " - 2s - loss: 4.5304 - acc: 0.7166 - val_loss: 6.1430 - val_acc: 0.5365\n",
      "\n",
      "Epoch 00044: val_loss did not improve from 6.04876\n",
      "Epoch 45/100\n",
      " - 2s - loss: 4.5292 - acc: 0.7183 - val_loss: 6.0935 - val_acc: 0.5473\n",
      "\n",
      "Epoch 00045: val_loss did not improve from 6.04876\n",
      "Epoch 46/100\n",
      " - 2s - loss: 4.5257 - acc: 0.7180 - val_loss: 6.1646 - val_acc: 0.5329\n",
      "\n",
      "Epoch 00046: val_loss did not improve from 6.04876\n",
      "Epoch 47/100\n",
      " - 2s - loss: 4.5246 - acc: 0.7183 - val_loss: 6.0855 - val_acc: 0.5473\n",
      "\n",
      "Epoch 00047: val_loss did not improve from 6.04876\n",
      "Epoch 48/100\n",
      " - 2s - loss: 4.5248 - acc: 0.7187 - val_loss: 6.1638 - val_acc: 0.5365\n",
      "\n",
      "Epoch 00048: val_loss did not improve from 6.04876\n",
      "Epoch 49/100\n",
      " - 2s - loss: 4.5077 - acc: 0.7160 - val_loss: 6.2189 - val_acc: 0.5425\n",
      "\n",
      "Epoch 00049: val_loss did not improve from 6.04876\n",
      "Epoch 50/100\n",
      " - 2s - loss: 4.4174 - acc: 0.7204 - val_loss: 6.1171 - val_acc: 0.5437\n",
      "\n",
      "Epoch 00050: val_loss did not improve from 6.04876\n",
      "Epoch 51/100\n",
      " - 2s - loss: 4.3962 - acc: 0.7232 - val_loss: 6.0047 - val_acc: 0.5521\n",
      "\n",
      "Epoch 00051: val_loss improved from 6.04876 to 6.00469, saving model to saved_models/weights.best.VGG16.hdf5\n",
      "Epoch 52/100\n",
      " - 2s - loss: 4.3847 - acc: 0.7260 - val_loss: 6.0668 - val_acc: 0.5593\n",
      "\n",
      "Epoch 00052: val_loss did not improve from 6.00469\n",
      "Epoch 53/100\n",
      " - 2s - loss: 4.3840 - acc: 0.7259 - val_loss: 5.9890 - val_acc: 0.5545\n",
      "\n",
      "Epoch 00053: val_loss improved from 6.00469 to 5.98902, saving model to saved_models/weights.best.VGG16.hdf5\n",
      "Epoch 54/100\n",
      " - 2s - loss: 4.3774 - acc: 0.7271 - val_loss: 5.9472 - val_acc: 0.5545\n",
      "\n",
      "Epoch 00054: val_loss improved from 5.98902 to 5.94720, saving model to saved_models/weights.best.VGG16.hdf5\n",
      "Epoch 55/100\n",
      " - 2s - loss: 4.3762 - acc: 0.7271 - val_loss: 6.0081 - val_acc: 0.5545\n",
      "\n",
      "Epoch 00055: val_loss did not improve from 5.94720\n",
      "Epoch 56/100\n",
      " - 2s - loss: 4.3781 - acc: 0.7271 - val_loss: 5.9661 - val_acc: 0.5509\n",
      "\n",
      "Epoch 00056: val_loss did not improve from 5.94720\n",
      "Epoch 57/100\n",
      " - 2s - loss: 4.3758 - acc: 0.7278 - val_loss: 5.9774 - val_acc: 0.5581\n",
      "\n",
      "Epoch 00057: val_loss did not improve from 5.94720\n",
      "Epoch 58/100\n",
      " - 2s - loss: 4.3775 - acc: 0.7275 - val_loss: 5.9120 - val_acc: 0.5581\n",
      "\n",
      "Epoch 00058: val_loss improved from 5.94720 to 5.91200, saving model to saved_models/weights.best.VGG16.hdf5\n",
      "Epoch 59/100\n",
      " - 2s - loss: 4.3769 - acc: 0.7275 - val_loss: 5.9537 - val_acc: 0.5569\n",
      "\n",
      "Epoch 00059: val_loss did not improve from 5.91200\n",
      "Epoch 60/100\n",
      " - 2s - loss: 4.3734 - acc: 0.7281 - val_loss: 5.9460 - val_acc: 0.5581\n",
      "\n",
      "Epoch 00060: val_loss did not improve from 5.91200\n",
      "Epoch 61/100\n",
      " - 2s - loss: 4.3740 - acc: 0.7284 - val_loss: 5.9791 - val_acc: 0.5509\n",
      "\n",
      "Epoch 00061: val_loss did not improve from 5.91200\n",
      "Epoch 62/100\n",
      " - 2s - loss: 4.3746 - acc: 0.7280 - val_loss: 5.9484 - val_acc: 0.5593\n",
      "\n",
      "Epoch 00062: val_loss did not improve from 5.91200\n",
      "Epoch 63/100\n",
      " - 2s - loss: 4.3756 - acc: 0.7280 - val_loss: 5.9587 - val_acc: 0.5629\n",
      "\n",
      "Epoch 00063: val_loss did not improve from 5.91200\n",
      "Epoch 64/100\n",
      " - 2s - loss: 4.3765 - acc: 0.7278 - val_loss: 5.9264 - val_acc: 0.5569\n",
      "\n",
      "Epoch 00064: val_loss did not improve from 5.91200\n",
      "Epoch 65/100\n",
      " - 2s - loss: 4.3751 - acc: 0.7280 - val_loss: 5.9749 - val_acc: 0.5521\n",
      "\n",
      "Epoch 00065: val_loss did not improve from 5.91200\n",
      "Epoch 66/100\n",
      " - 2s - loss: 4.3761 - acc: 0.7281 - val_loss: 5.9612 - val_acc: 0.5593\n",
      "\n",
      "Epoch 00066: val_loss did not improve from 5.91200\n",
      "Epoch 67/100\n",
      " - 2s - loss: 4.3738 - acc: 0.7280 - val_loss: 5.9517 - val_acc: 0.5593\n",
      "\n",
      "Epoch 00067: val_loss did not improve from 5.91200\n",
      "Epoch 68/100\n",
      " - 2s - loss: 4.3751 - acc: 0.7280 - val_loss: 5.9255 - val_acc: 0.5629\n",
      "\n",
      "Epoch 00068: val_loss did not improve from 5.91200\n",
      "Epoch 69/100\n",
      " - 2s - loss: 4.3754 - acc: 0.7281 - val_loss: 5.9319 - val_acc: 0.5557\n",
      "\n",
      "Epoch 00069: val_loss did not improve from 5.91200\n",
      "Epoch 70/100\n",
      " - 2s - loss: 4.3768 - acc: 0.7280 - val_loss: 5.9628 - val_acc: 0.5581\n",
      "\n",
      "Epoch 00070: val_loss did not improve from 5.91200\n",
      "Epoch 71/100\n",
      " - 2s - loss: 4.3767 - acc: 0.7281 - val_loss: 5.9546 - val_acc: 0.5593\n",
      "\n",
      "Epoch 00071: val_loss did not improve from 5.91200\n",
      "Epoch 72/100\n",
      " - 2s - loss: 4.3737 - acc: 0.7283 - val_loss: 5.9724 - val_acc: 0.5569\n",
      "\n",
      "Epoch 00072: val_loss did not improve from 5.91200\n",
      "Epoch 73/100\n",
      " - 2s - loss: 4.3772 - acc: 0.7278 - val_loss: 5.9693 - val_acc: 0.5545\n",
      "\n",
      "Epoch 00073: val_loss did not improve from 5.91200\n",
      "Epoch 74/100\n",
      " - 2s - loss: 4.3773 - acc: 0.7278 - val_loss: 5.9240 - val_acc: 0.5533\n",
      "\n",
      "Epoch 00074: val_loss did not improve from 5.91200\n",
      "Epoch 75/100\n",
      " - 2s - loss: 4.3753 - acc: 0.7280 - val_loss: 5.9524 - val_acc: 0.5569\n",
      "\n",
      "Epoch 00075: val_loss did not improve from 5.91200\n",
      "Epoch 76/100\n",
      " - 2s - loss: 4.3756 - acc: 0.7280 - val_loss: 5.9729 - val_acc: 0.5605\n",
      "\n",
      "Epoch 00076: val_loss did not improve from 5.91200\n",
      "Epoch 77/100\n",
      " - 2s - loss: 4.3762 - acc: 0.7281 - val_loss: 5.9496 - val_acc: 0.5593\n",
      "\n",
      "Epoch 00077: val_loss did not improve from 5.91200\n",
      "Epoch 78/100\n",
      " - 2s - loss: 4.3770 - acc: 0.7278 - val_loss: 5.9348 - val_acc: 0.5581\n",
      "\n",
      "Epoch 00078: val_loss did not improve from 5.91200\n",
      "Epoch 79/100\n",
      " - 2s - loss: 4.3747 - acc: 0.7281 - val_loss: 5.9599 - val_acc: 0.5617\n",
      "\n",
      "Epoch 00079: val_loss did not improve from 5.91200\n",
      "Epoch 80/100\n",
      " - 2s - loss: 4.3760 - acc: 0.7280 - val_loss: 5.9510 - val_acc: 0.5593\n",
      "\n",
      "Epoch 00080: val_loss did not improve from 5.91200\n",
      "Epoch 81/100\n",
      " - 2s - loss: 4.3774 - acc: 0.7281 - val_loss: 5.9271 - val_acc: 0.5617\n",
      "\n",
      "Epoch 00081: val_loss did not improve from 5.91200\n",
      "Epoch 82/100\n",
      " - 2s - loss: 4.3769 - acc: 0.7283 - val_loss: 5.9363 - val_acc: 0.5629\n",
      "\n",
      "Epoch 00082: val_loss did not improve from 5.91200\n",
      "Epoch 83/100\n",
      " - 2s - loss: 4.3751 - acc: 0.7283 - val_loss: 5.9323 - val_acc: 0.5569\n",
      "\n",
      "Epoch 00083: val_loss did not improve from 5.91200\n",
      "Epoch 84/100\n",
      " - 2s - loss: 4.3741 - acc: 0.7278 - val_loss: 6.0070 - val_acc: 0.5509\n",
      "\n",
      "Epoch 00084: val_loss did not improve from 5.91200\n",
      "Epoch 85/100\n",
      " - 2s - loss: 4.3751 - acc: 0.7281 - val_loss: 5.9488 - val_acc: 0.5605\n",
      "\n",
      "Epoch 00085: val_loss did not improve from 5.91200\n",
      "Epoch 86/100\n",
      " - 2s - loss: 4.3753 - acc: 0.7283 - val_loss: 5.9495 - val_acc: 0.5581\n",
      "\n",
      "Epoch 00086: val_loss did not improve from 5.91200\n",
      "Epoch 87/100\n",
      " - 2s - loss: 4.3773 - acc: 0.7281 - val_loss: 5.9346 - val_acc: 0.5653\n",
      "\n",
      "Epoch 00087: val_loss did not improve from 5.91200\n",
      "Epoch 88/100\n",
      " - 2s - loss: 4.3759 - acc: 0.7280 - val_loss: 5.9692 - val_acc: 0.5605\n",
      "\n",
      "Epoch 00088: val_loss did not improve from 5.91200\n",
      "Epoch 89/100\n",
      " - 2s - loss: 4.3771 - acc: 0.7278 - val_loss: 5.9337 - val_acc: 0.5605\n",
      "\n",
      "Epoch 00089: val_loss did not improve from 5.91200\n",
      "Epoch 90/100\n",
      " - 2s - loss: 4.3756 - acc: 0.7278 - val_loss: 5.9518 - val_acc: 0.5629\n",
      "\n",
      "Epoch 00090: val_loss did not improve from 5.91200\n",
      "Epoch 91/100\n",
      " - 2s - loss: 4.3757 - acc: 0.7280 - val_loss: 5.9601 - val_acc: 0.5653\n",
      "\n",
      "Epoch 00091: val_loss did not improve from 5.91200\n",
      "Epoch 92/100\n",
      " - 2s - loss: 4.3762 - acc: 0.7280 - val_loss: 5.9438 - val_acc: 0.5617\n",
      "\n",
      "Epoch 00092: val_loss did not improve from 5.91200\n",
      "Epoch 93/100\n",
      " - 2s - loss: 4.3780 - acc: 0.7280 - val_loss: 5.9444 - val_acc: 0.5617\n",
      "\n",
      "Epoch 00093: val_loss did not improve from 5.91200\n",
      "Epoch 94/100\n",
      " - 2s - loss: 4.3752 - acc: 0.7283 - val_loss: 5.9724 - val_acc: 0.5593\n",
      "\n",
      "Epoch 00094: val_loss did not improve from 5.91200\n",
      "Epoch 95/100\n",
      " - 2s - loss: 4.3770 - acc: 0.7280 - val_loss: 5.9450 - val_acc: 0.5605\n",
      "\n",
      "Epoch 00095: val_loss did not improve from 5.91200\n",
      "Epoch 96/100\n",
      " - 2s - loss: 4.3778 - acc: 0.7283 - val_loss: 5.9618 - val_acc: 0.5605\n",
      "\n",
      "Epoch 00096: val_loss did not improve from 5.91200\n",
      "Epoch 97/100\n",
      " - 2s - loss: 4.3761 - acc: 0.7280 - val_loss: 5.9513 - val_acc: 0.5617\n",
      "\n",
      "Epoch 00097: val_loss did not improve from 5.91200\n",
      "Epoch 98/100\n",
      " - 2s - loss: 4.3774 - acc: 0.7280 - val_loss: 5.9562 - val_acc: 0.5581\n",
      "\n",
      "Epoch 00098: val_loss did not improve from 5.91200\n",
      "Epoch 99/100\n",
      " - 2s - loss: 4.3765 - acc: 0.7281 - val_loss: 5.9471 - val_acc: 0.5605\n",
      "\n",
      "Epoch 00099: val_loss did not improve from 5.91200\n",
      "Epoch 100/100\n",
      " - 2s - loss: 4.3773 - acc: 0.7278 - val_loss: 5.9416 - val_acc: 0.5605\n",
      "\n",
      "Epoch 00100: val_loss did not improve from 5.91200\n"
     ]
    },
    {
     "data": {
      "text/plain": [
       "<keras.callbacks.History at 0x7fa66aa2f128>"
      ]
     },
     "execution_count": 50,
     "metadata": {},
     "output_type": "execute_result"
    }
   ],
   "source": [
    "checkpointer = ModelCheckpoint(filepath='saved_models/weights.best.VGG16.hdf5', \n",
    "                               verbose=1, save_best_only=True)\n",
    "\n",
    "VGG16_model.fit(train_VGG16, train_targets, \n",
    "          validation_data=(valid_VGG16, valid_targets),\n",
    "          epochs=20, batch_size=20, callbacks=[checkpointer], verbose=2)"
   ]
  },
  {
   "cell_type": "markdown",
   "metadata": {
    "deletable": true,
    "editable": true
   },
   "source": [
    "### Load the Model with the Best Validation Loss"
   ]
  },
  {
   "cell_type": "code",
   "execution_count": 51,
   "metadata": {
    "collapsed": true,
    "deletable": true,
    "editable": true
   },
   "outputs": [],
   "source": [
    "VGG16_model.load_weights('saved_models/weights.best.VGG16.hdf5')"
   ]
  },
  {
   "cell_type": "markdown",
   "metadata": {
    "deletable": true,
    "editable": true
   },
   "source": [
    "### Test the Model\n",
    "\n",
    "Now, we can use the CNN to test how well it identifies breed within our test dataset of dog images.  We print the test accuracy below."
   ]
  },
  {
   "cell_type": "code",
   "execution_count": 52,
   "metadata": {
    "collapsed": false,
    "deletable": true,
    "editable": true
   },
   "outputs": [
    {
     "name": "stdout",
     "output_type": "stream",
     "text": [
      "Test accuracy: 54.6651%\n"
     ]
    }
   ],
   "source": [
    "# get index of predicted dog breed for each image in test set\n",
    "VGG16_predictions = [np.argmax(VGG16_model.predict(np.expand_dims(feature, axis=0))) for feature in test_VGG16]\n",
    "\n",
    "# report test accuracy\n",
    "test_accuracy = 100*np.sum(np.array(VGG16_predictions)==np.argmax(test_targets, axis=1))/len(VGG16_predictions)\n",
    "print('Test accuracy: %.4f%%' % test_accuracy)"
   ]
  },
  {
   "cell_type": "markdown",
   "metadata": {
    "deletable": true,
    "editable": true
   },
   "source": [
    "### Predict Dog Breed with the Model"
   ]
  },
  {
   "cell_type": "code",
   "execution_count": 53,
   "metadata": {
    "collapsed": true,
    "deletable": true,
    "editable": true
   },
   "outputs": [],
   "source": [
    "from extract_bottleneck_features import *\n",
    "\n",
    "def VGG16_predict_breed(img_path):\n",
    "    # extract bottleneck features\n",
    "    bottleneck_feature = (path_to_tensor(img_path))\n",
    "    # obtain predicted vector\n",
    "    predicted_vector = VGG16_model.predict(bottleneck_feature)\n",
    "    # return dog breed that is predicted by the model\n",
    "    return dog_names[np.argmax(predicted_vector)]"
   ]
  },
  {
   "cell_type": "markdown",
   "metadata": {
    "deletable": true,
    "editable": true
   },
   "source": [
    "---\n",
    "<a id='step5'></a>\n",
    "## Step 5: Create a CNN to Classify Dog Breeds (using Transfer Learning)\n",
    "\n",
    "You will now use transfer learning to create a CNN that can identify dog breed from images.  Your CNN must attain at least 60% accuracy on the test set.\n",
    "\n",
    "In Step 4, we used transfer learning to create a CNN using VGG-16 bottleneck features.  In this section, you must use the bottleneck features from a different pre-trained model.  To make things easier for you, we have pre-computed the features for all of the networks that are currently available in Keras:\n",
    "- [VGG-19](https://s3-us-west-1.amazonaws.com/udacity-aind/dog-project/DogVGG19Data.npz) bottleneck features\n",
    "- [ResNet-50](https://s3-us-west-1.amazonaws.com/udacity-aind/dog-project/DogResnet50Data.npz) bottleneck features\n",
    "- [Inception](https://s3-us-west-1.amazonaws.com/udacity-aind/dog-project/DogInceptionV3Data.npz) bottleneck features\n",
    "- [Xception](https://s3-us-west-1.amazonaws.com/udacity-aind/dog-project/DogXceptionData.npz) bottleneck features\n",
    "\n",
    "The files are encoded as such:\n",
    "\n",
    "    Dog{network}Data.npz\n",
    "    \n",
    "where `{network}`, in the above filename, can be one of `VGG19`, `Resnet50`, `InceptionV3`, or `Xception`.  Pick one of the above architectures, download the corresponding bottleneck features, and store the downloaded file in the `bottleneck_features/` folder in the repository.\n",
    "\n",
    "### (IMPLEMENTATION) Obtain Bottleneck Features\n",
    "\n",
    "In the code block below, extract the bottleneck features corresponding to the train, test, and validation sets by running the following:\n",
    "\n",
    "    bottleneck_features = np.load('bottleneck_features/Dog{network}Data.npz')\n",
    "    train_{network} = bottleneck_features['train']\n",
    "    valid_{network} = bottleneck_features['valid']\n",
    "    test_{network} = bottleneck_features['test']"
   ]
  },
  {
   "cell_type": "code",
   "execution_count": 7,
   "metadata": {
    "collapsed": false,
    "deletable": true,
    "editable": true
   },
   "outputs": [],
   "source": [
    "### TODO: Obtain bottleneck features from another pre-trained CNN.\n",
    "bottleneck_features = np.load('bottleneck_features/DogVGG19Data.npz')\n",
    "train_VGG19 = bottleneck_features['train']\n",
    "valid_VGG19 = bottleneck_features['valid']\n",
    "test_VGG19 = bottleneck_features['test']"
   ]
  },
  {
   "cell_type": "code",
   "execution_count": 16,
   "metadata": {
    "collapsed": true,
    "deletable": true,
    "editable": true
   },
   "outputs": [],
   "source": [
    "bottleneck_features = np.load('bottleneck_features/DogResnet50Data.npz')\n",
    "train_Resnet50 = bottleneck_features['train']\n",
    "valid_Resnet50 = bottleneck_features['valid']\n",
    "test_Resnet50 = bottleneck_features['test']"
   ]
  },
  {
   "cell_type": "code",
   "execution_count": 17,
   "metadata": {
    "collapsed": true,
    "deletable": true,
    "editable": true
   },
   "outputs": [],
   "source": [
    "bottleneck_features = np.load('bottleneck_features/DogInceptionV3Data.npz')\n",
    "train_InceptionV3 = bottleneck_features['train']\n",
    "valid_InceptionV3 = bottleneck_features['valid']\n",
    "test_InceptionV3 = bottleneck_features['test']"
   ]
  },
  {
   "cell_type": "code",
   "execution_count": 18,
   "metadata": {
    "collapsed": true,
    "deletable": true,
    "editable": true
   },
   "outputs": [],
   "source": [
    "bottleneck_features = np.load('bottleneck_features/DogXceptionData.npz')\n",
    "train_Xception = bottleneck_features['train']\n",
    "valid_Xception = bottleneck_features['valid']\n",
    "test_Xception = bottleneck_features['test']"
   ]
  },
  {
   "cell_type": "markdown",
   "metadata": {
    "deletable": true,
    "editable": true
   },
   "source": [
    "### (IMPLEMENTATION) Model Architecture\n",
    "\n",
    "Create a CNN to classify dog breed.  At the end of your code cell block, summarize the layers of your model by executing the line:\n",
    "    \n",
    "        <your model's name>.summary()\n",
    "   \n",
    "__Question 5:__ Outline the steps you took to get to your final CNN architecture and your reasoning at each step.  Describe why you think the architecture is suitable for the current problem.\n",
    "\n",
    "__Answer:__ \n",
    "\n"
   ]
  },
  {
   "cell_type": "code",
   "execution_count": 10,
   "metadata": {
    "collapsed": false,
    "deletable": true,
    "editable": true
   },
   "outputs": [
    {
     "name": "stdout",
     "output_type": "stream",
     "text": [
      "_________________________________________________________________\n",
      "Layer (type)                 Output Shape              Param #   \n",
      "=================================================================\n",
      "global_average_pooling2d_2 ( (None, 512)               0         \n",
      "_________________________________________________________________\n",
      "dense_2 (Dense)              (None, 133)               68229     \n",
      "=================================================================\n",
      "Total params: 68,229\n",
      "Trainable params: 68,229\n",
      "Non-trainable params: 0\n",
      "_________________________________________________________________\n"
     ]
    }
   ],
   "source": [
    "### TODO: Define your architecture.\n",
    "VGG19_model = Sequential()\n",
    "VGG19_model.add(GlobalAveragePooling2D(input_shape=train_VGG19.shape[1:]))\n",
    "VGG19_model.add(Dense(133, activation='softmax'))\n",
    "\n",
    "VGG19_model.summary()"
   ]
  },
  {
   "cell_type": "code",
   "execution_count": 19,
   "metadata": {
    "collapsed": false,
    "deletable": true,
    "editable": true
   },
   "outputs": [
    {
     "name": "stdout",
     "output_type": "stream",
     "text": [
      "_________________________________________________________________\n",
      "Layer (type)                 Output Shape              Param #   \n",
      "=================================================================\n",
      "global_average_pooling2d_3 ( (None, 2048)              0         \n",
      "_________________________________________________________________\n",
      "dense_3 (Dense)              (None, 133)               272517    \n",
      "=================================================================\n",
      "Total params: 272,517\n",
      "Trainable params: 272,517\n",
      "Non-trainable params: 0\n",
      "_________________________________________________________________\n"
     ]
    }
   ],
   "source": [
    "Resnet50_model = Sequential()\n",
    "Resnet50_model.add(GlobalAveragePooling2D(input_shape=train_Resnet50.shape[1:]))\n",
    "Resnet50_model.add(Dense(133, activation='softmax'))\n",
    "\n",
    "Resnet50_model.summary()"
   ]
  },
  {
   "cell_type": "code",
   "execution_count": 20,
   "metadata": {
    "collapsed": false,
    "deletable": true,
    "editable": true
   },
   "outputs": [
    {
     "name": "stdout",
     "output_type": "stream",
     "text": [
      "_________________________________________________________________\n",
      "Layer (type)                 Output Shape              Param #   \n",
      "=================================================================\n",
      "global_average_pooling2d_4 ( (None, 2048)              0         \n",
      "_________________________________________________________________\n",
      "dense_4 (Dense)              (None, 133)               272517    \n",
      "=================================================================\n",
      "Total params: 272,517\n",
      "Trainable params: 272,517\n",
      "Non-trainable params: 0\n",
      "_________________________________________________________________\n"
     ]
    }
   ],
   "source": [
    "InceptionV3_model = Sequential()\n",
    "InceptionV3_model.add(GlobalAveragePooling2D(input_shape=train_InceptionV3.shape[1:]))\n",
    "InceptionV3_model.add(Dense(133, activation='softmax'))\n",
    "\n",
    "InceptionV3_model.summary()"
   ]
  },
  {
   "cell_type": "code",
   "execution_count": 22,
   "metadata": {
    "collapsed": false,
    "deletable": true,
    "editable": true
   },
   "outputs": [
    {
     "name": "stdout",
     "output_type": "stream",
     "text": [
      "_________________________________________________________________\n",
      "Layer (type)                 Output Shape              Param #   \n",
      "=================================================================\n",
      "global_average_pooling2d_6 ( (None, 2048)              0         \n",
      "_________________________________________________________________\n",
      "dense_6 (Dense)              (None, 133)               272517    \n",
      "=================================================================\n",
      "Total params: 272,517\n",
      "Trainable params: 272,517\n",
      "Non-trainable params: 0\n",
      "_________________________________________________________________\n"
     ]
    }
   ],
   "source": [
    "Xception_model = Sequential()\n",
    "Xception_model.add(GlobalAveragePooling2D(input_shape=train_Xception.shape[1:]))\n",
    "Xception_model.add(Dense(133, activation='softmax'))\n",
    "\n",
    "Xception_model.summary()"
   ]
  },
  {
   "cell_type": "markdown",
   "metadata": {
    "deletable": true,
    "editable": true
   },
   "source": [
    "### (IMPLEMENTATION) Compile the Model"
   ]
  },
  {
   "cell_type": "code",
   "execution_count": 11,
   "metadata": {
    "collapsed": true,
    "deletable": true,
    "editable": true
   },
   "outputs": [],
   "source": [
    "### TODO: Compile the model.\n",
    "VGG19_model.compile(loss='categorical_crossentropy', optimizer='rmsprop', metrics=['accuracy'])"
   ]
  },
  {
   "cell_type": "code",
   "execution_count": 23,
   "metadata": {
    "collapsed": true,
    "deletable": true,
    "editable": true
   },
   "outputs": [],
   "source": [
    "Resnet50_model.compile(loss='categorical_crossentropy', optimizer='rmsprop', metrics=['accuracy'])"
   ]
  },
  {
   "cell_type": "code",
   "execution_count": 24,
   "metadata": {
    "collapsed": true,
    "deletable": true,
    "editable": true
   },
   "outputs": [],
   "source": [
    "InceptionV3_model.compile(loss='categorical_crossentropy', optimizer='rmsprop', metrics=['accuracy'])"
   ]
  },
  {
   "cell_type": "code",
   "execution_count": 25,
   "metadata": {
    "collapsed": true,
    "deletable": true,
    "editable": true
   },
   "outputs": [],
   "source": [
    "Xception_model.compile(loss='categorical_crossentropy', optimizer='rmsprop', metrics=['accuracy'])"
   ]
  },
  {
   "cell_type": "markdown",
   "metadata": {
    "deletable": true,
    "editable": true
   },
   "source": [
    "### (IMPLEMENTATION) Train the Model\n",
    "\n",
    "Train your model in the code cell below.  Use model checkpointing to save the model that attains the best validation loss.  \n",
    "\n",
    "You are welcome to [augment the training data](https://blog.keras.io/building-powerful-image-classification-models-using-very-little-data.html), but this is not a requirement. "
   ]
  },
  {
   "cell_type": "code",
   "execution_count": 13,
   "metadata": {
    "collapsed": false,
    "deletable": true,
    "editable": true
   },
   "outputs": [
    {
     "name": "stdout",
     "output_type": "stream",
     "text": [
      "Train on 6680 samples, validate on 835 samples\n",
      "Epoch 1/20\n",
      " - 2s - loss: 11.1514 - acc: 0.1530 - val_loss: 9.1012 - val_acc: 0.2623\n",
      "\n",
      "Epoch 00001: val_loss improved from inf to 9.10124, saving model to saved_models/weights.best.VGG19.hdf5\n",
      "Epoch 2/20\n",
      " - 2s - loss: 8.0830 - acc: 0.3656 - val_loss: 8.0633 - val_acc: 0.3509\n",
      "\n",
      "Epoch 00002: val_loss improved from 9.10124 to 8.06333, saving model to saved_models/weights.best.VGG19.hdf5\n",
      "Epoch 3/20\n",
      " - 2s - loss: 7.4093 - acc: 0.4555 - val_loss: 7.7792 - val_acc: 0.3844\n",
      "\n",
      "Epoch 00003: val_loss improved from 8.06333 to 7.77924, saving model to saved_models/weights.best.VGG19.hdf5\n",
      "Epoch 4/20\n",
      " - 2s - loss: 7.1225 - acc: 0.4957 - val_loss: 7.7721 - val_acc: 0.4036\n",
      "\n",
      "Epoch 00004: val_loss improved from 7.77924 to 7.77207, saving model to saved_models/weights.best.VGG19.hdf5\n",
      "Epoch 5/20\n",
      " - 2s - loss: 6.9885 - acc: 0.5208 - val_loss: 7.6552 - val_acc: 0.4251\n",
      "\n",
      "Epoch 00005: val_loss improved from 7.77207 to 7.65517, saving model to saved_models/weights.best.VGG19.hdf5\n",
      "Epoch 6/20\n",
      " - 2s - loss: 6.8496 - acc: 0.5341 - val_loss: 7.4545 - val_acc: 0.4251\n",
      "\n",
      "Epoch 00006: val_loss improved from 7.65517 to 7.45453, saving model to saved_models/weights.best.VGG19.hdf5\n",
      "Epoch 7/20\n",
      " - 2s - loss: 6.7190 - acc: 0.5503 - val_loss: 7.4086 - val_acc: 0.4467\n",
      "\n",
      "Epoch 00007: val_loss improved from 7.45453 to 7.40856, saving model to saved_models/weights.best.VGG19.hdf5\n",
      "Epoch 8/20\n",
      " - 2s - loss: 6.6418 - acc: 0.5623 - val_loss: 7.3746 - val_acc: 0.4419\n",
      "\n",
      "Epoch 00008: val_loss improved from 7.40856 to 7.37457, saving model to saved_models/weights.best.VGG19.hdf5\n",
      "Epoch 9/20\n",
      " - 2s - loss: 6.5857 - acc: 0.5711 - val_loss: 7.4020 - val_acc: 0.4575\n",
      "\n",
      "Epoch 00009: val_loss did not improve from 7.37457\n",
      "Epoch 10/20\n",
      " - 2s - loss: 6.5191 - acc: 0.5738 - val_loss: 7.3983 - val_acc: 0.4431\n",
      "\n",
      "Epoch 00010: val_loss did not improve from 7.37457\n",
      "Epoch 11/20\n",
      " - 2s - loss: 6.3517 - acc: 0.5825 - val_loss: 7.1698 - val_acc: 0.4635\n",
      "\n",
      "Epoch 00011: val_loss improved from 7.37457 to 7.16983, saving model to saved_models/weights.best.VGG19.hdf5\n",
      "Epoch 12/20\n",
      " - 2s - loss: 6.1465 - acc: 0.6021 - val_loss: 6.9886 - val_acc: 0.4719\n",
      "\n",
      "Epoch 00012: val_loss improved from 7.16983 to 6.98858, saving model to saved_models/weights.best.VGG19.hdf5\n",
      "Epoch 13/20\n",
      " - 2s - loss: 6.0417 - acc: 0.6121 - val_loss: 7.0084 - val_acc: 0.4719\n",
      "\n",
      "Epoch 00013: val_loss did not improve from 6.98858\n",
      "Epoch 14/20\n",
      " - 2s - loss: 5.9618 - acc: 0.6180 - val_loss: 7.0138 - val_acc: 0.4647\n",
      "\n",
      "Epoch 00014: val_loss did not improve from 6.98858\n",
      "Epoch 15/20\n",
      " - 2s - loss: 5.9169 - acc: 0.6229 - val_loss: 6.9049 - val_acc: 0.4754\n",
      "\n",
      "Epoch 00015: val_loss improved from 6.98858 to 6.90494, saving model to saved_models/weights.best.VGG19.hdf5\n",
      "Epoch 16/20\n",
      " - 2s - loss: 5.8310 - acc: 0.6269 - val_loss: 6.9183 - val_acc: 0.4719\n",
      "\n",
      "Epoch 00016: val_loss did not improve from 6.90494\n",
      "Epoch 17/20\n",
      " - 2s - loss: 5.6804 - acc: 0.6244 - val_loss: 6.7542 - val_acc: 0.4766\n",
      "\n",
      "Epoch 00017: val_loss improved from 6.90494 to 6.75422, saving model to saved_models/weights.best.VGG19.hdf5\n",
      "Epoch 18/20\n",
      " - 2s - loss: 5.3846 - acc: 0.6455 - val_loss: 6.4712 - val_acc: 0.4910\n",
      "\n",
      "Epoch 00018: val_loss improved from 6.75422 to 6.47121, saving model to saved_models/weights.best.VGG19.hdf5\n",
      "Epoch 19/20\n",
      " - 2s - loss: 5.2311 - acc: 0.6549 - val_loss: 6.4398 - val_acc: 0.4910\n",
      "\n",
      "Epoch 00019: val_loss improved from 6.47121 to 6.43984, saving model to saved_models/weights.best.VGG19.hdf5\n",
      "Epoch 20/20\n",
      " - 2s - loss: 5.1621 - acc: 0.6626 - val_loss: 6.4343 - val_acc: 0.4994\n",
      "\n",
      "Epoch 00020: val_loss improved from 6.43984 to 6.43430, saving model to saved_models/weights.best.VGG19.hdf5\n"
     ]
    },
    {
     "data": {
      "text/plain": [
       "<keras.callbacks.History at 0x7f90b4723940>"
      ]
     },
     "execution_count": 13,
     "metadata": {},
     "output_type": "execute_result"
    }
   ],
   "source": [
    "from keras.callbacks import ModelCheckpoint \n",
    "\n",
    "checkpointer = ModelCheckpoint(filepath='saved_models/weights.best.VGG19.hdf5', \n",
    "                               verbose=1, save_best_only=True)\n",
    "\n",
    "VGG19_model.fit(train_VGG19, train_targets, \n",
    "          validation_data=(valid_VGG19, valid_targets),\n",
    "          epochs=20, batch_size=20, callbacks=[checkpointer], verbose=2)"
   ]
  },
  {
   "cell_type": "code",
   "execution_count": 26,
   "metadata": {
    "collapsed": false,
    "deletable": true,
    "editable": true
   },
   "outputs": [
    {
     "name": "stdout",
     "output_type": "stream",
     "text": [
      "Train on 6680 samples, validate on 835 samples\n",
      "Epoch 1/20\n",
      " - 1s - loss: 1.6217 - acc: 0.6009 - val_loss: 0.8292 - val_acc: 0.7437\n",
      "\n",
      "Epoch 00001: val_loss improved from inf to 0.82920, saving model to saved_models/weights.best.Resnet50.hdf5\n",
      "Epoch 2/20\n",
      " - 2s - loss: 0.4368 - acc: 0.8651 - val_loss: 0.6879 - val_acc: 0.7952\n",
      "\n",
      "Epoch 00002: val_loss improved from 0.82920 to 0.68791, saving model to saved_models/weights.best.Resnet50.hdf5\n",
      "Epoch 3/20\n",
      " - 2s - loss: 0.2684 - acc: 0.9127 - val_loss: 0.6268 - val_acc: 0.8048\n",
      "\n",
      "Epoch 00003: val_loss improved from 0.68791 to 0.62678, saving model to saved_models/weights.best.Resnet50.hdf5\n",
      "Epoch 4/20\n",
      " - 2s - loss: 0.1738 - acc: 0.9464 - val_loss: 0.6716 - val_acc: 0.8000\n",
      "\n",
      "Epoch 00004: val_loss did not improve from 0.62678\n",
      "Epoch 5/20\n",
      " - 2s - loss: 0.1207 - acc: 0.9621 - val_loss: 0.6577 - val_acc: 0.8036\n",
      "\n",
      "Epoch 00005: val_loss did not improve from 0.62678\n",
      "Epoch 6/20\n",
      " - 2s - loss: 0.0864 - acc: 0.9737 - val_loss: 0.6758 - val_acc: 0.8144\n",
      "\n",
      "Epoch 00006: val_loss did not improve from 0.62678\n",
      "Epoch 7/20\n",
      " - 2s - loss: 0.0623 - acc: 0.9813 - val_loss: 0.6627 - val_acc: 0.8216\n",
      "\n",
      "Epoch 00007: val_loss did not improve from 0.62678\n",
      "Epoch 8/20\n",
      " - 2s - loss: 0.0468 - acc: 0.9862 - val_loss: 0.7430 - val_acc: 0.8144\n",
      "\n",
      "Epoch 00008: val_loss did not improve from 0.62678\n",
      "Epoch 9/20\n",
      " - 2s - loss: 0.0374 - acc: 0.9900 - val_loss: 0.6651 - val_acc: 0.8228\n",
      "\n",
      "Epoch 00009: val_loss did not improve from 0.62678\n",
      "Epoch 10/20\n",
      " - 2s - loss: 0.0288 - acc: 0.9925 - val_loss: 0.7568 - val_acc: 0.8072\n",
      "\n",
      "Epoch 00010: val_loss did not improve from 0.62678\n",
      "Epoch 11/20\n",
      " - 2s - loss: 0.0214 - acc: 0.9954 - val_loss: 0.7745 - val_acc: 0.8180\n",
      "\n",
      "Epoch 00011: val_loss did not improve from 0.62678\n",
      "Epoch 12/20\n",
      " - 2s - loss: 0.0162 - acc: 0.9961 - val_loss: 0.7802 - val_acc: 0.8263\n",
      "\n",
      "Epoch 00012: val_loss did not improve from 0.62678\n",
      "Epoch 13/20\n",
      " - 2s - loss: 0.0144 - acc: 0.9961 - val_loss: 0.7793 - val_acc: 0.8156\n",
      "\n",
      "Epoch 00013: val_loss did not improve from 0.62678\n",
      "Epoch 14/20\n",
      " - 2s - loss: 0.0119 - acc: 0.9966 - val_loss: 0.7974 - val_acc: 0.8371\n",
      "\n",
      "Epoch 00014: val_loss did not improve from 0.62678\n",
      "Epoch 15/20\n",
      " - 2s - loss: 0.0108 - acc: 0.9978 - val_loss: 0.8359 - val_acc: 0.8311\n",
      "\n",
      "Epoch 00015: val_loss did not improve from 0.62678\n",
      "Epoch 16/20\n",
      " - 2s - loss: 0.0088 - acc: 0.9981 - val_loss: 0.8772 - val_acc: 0.8180\n",
      "\n",
      "Epoch 00016: val_loss did not improve from 0.62678\n",
      "Epoch 17/20\n",
      " - 2s - loss: 0.0076 - acc: 0.9982 - val_loss: 0.8749 - val_acc: 0.8216\n",
      "\n",
      "Epoch 00017: val_loss did not improve from 0.62678\n",
      "Epoch 18/20\n",
      " - 2s - loss: 0.0077 - acc: 0.9979 - val_loss: 0.8961 - val_acc: 0.8180\n",
      "\n",
      "Epoch 00018: val_loss did not improve from 0.62678\n",
      "Epoch 19/20\n",
      " - 2s - loss: 0.0062 - acc: 0.9987 - val_loss: 0.8939 - val_acc: 0.8240\n",
      "\n",
      "Epoch 00019: val_loss did not improve from 0.62678\n",
      "Epoch 20/20\n",
      " - 2s - loss: 0.0059 - acc: 0.9982 - val_loss: 0.9046 - val_acc: 0.8263\n",
      "\n",
      "Epoch 00020: val_loss did not improve from 0.62678\n"
     ]
    },
    {
     "data": {
      "text/plain": [
       "<keras.callbacks.History at 0x7f90b4193748>"
      ]
     },
     "execution_count": 26,
     "metadata": {},
     "output_type": "execute_result"
    }
   ],
   "source": [
    "checkpointer = ModelCheckpoint(filepath='saved_models/weights.best.Resnet50.hdf5', \n",
    "                               verbose=1, save_best_only=True)\n",
    "\n",
    "Resnet50_model.fit(train_Resnet50, train_targets, \n",
    "          validation_data=(valid_Resnet50, valid_targets),\n",
    "          epochs=20, batch_size=20, callbacks=[checkpointer], verbose=2)"
   ]
  },
  {
   "cell_type": "code",
   "execution_count": 27,
   "metadata": {
    "collapsed": false,
    "deletable": true,
    "editable": true
   },
   "outputs": [
    {
     "name": "stdout",
     "output_type": "stream",
     "text": [
      "Train on 6680 samples, validate on 835 samples\n",
      "Epoch 1/20\n",
      " - 3s - loss: 1.1835 - acc: 0.7016 - val_loss: 0.6132 - val_acc: 0.8204\n",
      "\n",
      "Epoch 00001: val_loss improved from inf to 0.61320, saving model to saved_models/weights.best.InceptionV3.hdf5\n",
      "Epoch 2/20\n",
      " - 3s - loss: 0.4796 - acc: 0.8530 - val_loss: 0.6131 - val_acc: 0.8287\n",
      "\n",
      "Epoch 00002: val_loss improved from 0.61320 to 0.61313, saving model to saved_models/weights.best.InceptionV3.hdf5\n",
      "Epoch 3/20\n",
      " - 3s - loss: 0.3674 - acc: 0.8903 - val_loss: 0.6860 - val_acc: 0.8263\n",
      "\n",
      "Epoch 00003: val_loss did not improve from 0.61313\n",
      "Epoch 4/20\n",
      " - 3s - loss: 0.3016 - acc: 0.9042 - val_loss: 0.6854 - val_acc: 0.8383\n",
      "\n",
      "Epoch 00004: val_loss did not improve from 0.61313\n",
      "Epoch 5/20\n",
      " - 3s - loss: 0.2412 - acc: 0.9249 - val_loss: 0.6602 - val_acc: 0.8503\n",
      "\n",
      "Epoch 00005: val_loss did not improve from 0.61313\n",
      "Epoch 6/20\n",
      " - 3s - loss: 0.2013 - acc: 0.9401 - val_loss: 0.7113 - val_acc: 0.8431\n",
      "\n",
      "Epoch 00006: val_loss did not improve from 0.61313\n",
      "Epoch 7/20\n",
      " - 3s - loss: 0.1738 - acc: 0.9451 - val_loss: 0.7018 - val_acc: 0.8467\n",
      "\n",
      "Epoch 00007: val_loss did not improve from 0.61313\n",
      "Epoch 8/20\n",
      " - 3s - loss: 0.1512 - acc: 0.9537 - val_loss: 0.7367 - val_acc: 0.8443\n",
      "\n",
      "Epoch 00008: val_loss did not improve from 0.61313\n",
      "Epoch 9/20\n",
      " - 3s - loss: 0.1237 - acc: 0.9614 - val_loss: 0.8229 - val_acc: 0.8347\n",
      "\n",
      "Epoch 00009: val_loss did not improve from 0.61313\n",
      "Epoch 10/20\n",
      " - 3s - loss: 0.1059 - acc: 0.9659 - val_loss: 0.7810 - val_acc: 0.8455\n",
      "\n",
      "Epoch 00010: val_loss did not improve from 0.61313\n",
      "Epoch 11/20\n",
      " - 3s - loss: 0.0985 - acc: 0.9680 - val_loss: 0.7963 - val_acc: 0.8491\n",
      "\n",
      "Epoch 00011: val_loss did not improve from 0.61313\n",
      "Epoch 12/20\n",
      " - 3s - loss: 0.0858 - acc: 0.9737 - val_loss: 0.7822 - val_acc: 0.8479\n",
      "\n",
      "Epoch 00012: val_loss did not improve from 0.61313\n",
      "Epoch 13/20\n",
      " - 3s - loss: 0.0757 - acc: 0.9753 - val_loss: 0.8403 - val_acc: 0.8503\n",
      "\n",
      "Epoch 00013: val_loss did not improve from 0.61313\n",
      "Epoch 14/20\n",
      " - 3s - loss: 0.0649 - acc: 0.9804 - val_loss: 0.7971 - val_acc: 0.8563\n",
      "\n",
      "Epoch 00014: val_loss did not improve from 0.61313\n",
      "Epoch 15/20\n",
      " - 3s - loss: 0.0576 - acc: 0.9835 - val_loss: 0.8487 - val_acc: 0.8527\n",
      "\n",
      "Epoch 00015: val_loss did not improve from 0.61313\n",
      "Epoch 16/20\n",
      " - 3s - loss: 0.0523 - acc: 0.9835 - val_loss: 0.8268 - val_acc: 0.8575\n",
      "\n",
      "Epoch 00016: val_loss did not improve from 0.61313\n",
      "Epoch 17/20\n",
      " - 3s - loss: 0.0451 - acc: 0.9847 - val_loss: 0.9018 - val_acc: 0.8599\n",
      "\n",
      "Epoch 00017: val_loss did not improve from 0.61313\n",
      "Epoch 18/20\n",
      " - 3s - loss: 0.0388 - acc: 0.9879 - val_loss: 0.9011 - val_acc: 0.8467\n",
      "\n",
      "Epoch 00018: val_loss did not improve from 0.61313\n",
      "Epoch 19/20\n",
      " - 3s - loss: 0.0349 - acc: 0.9898 - val_loss: 0.9097 - val_acc: 0.8515\n",
      "\n",
      "Epoch 00019: val_loss did not improve from 0.61313\n",
      "Epoch 20/20\n",
      " - 3s - loss: 0.0323 - acc: 0.9910 - val_loss: 0.9109 - val_acc: 0.8527\n",
      "\n",
      "Epoch 00020: val_loss did not improve from 0.61313\n"
     ]
    },
    {
     "data": {
      "text/plain": [
       "<keras.callbacks.History at 0x7f9095fdb7f0>"
      ]
     },
     "execution_count": 27,
     "metadata": {},
     "output_type": "execute_result"
    }
   ],
   "source": [
    "checkpointer = ModelCheckpoint(filepath='saved_models/weights.best.InceptionV3.hdf5', \n",
    "                               verbose=1, save_best_only=True)\n",
    "\n",
    "InceptionV3_model.fit(train_InceptionV3, train_targets, \n",
    "          validation_data=(valid_InceptionV3, valid_targets),\n",
    "          epochs=20, batch_size=20, callbacks=[checkpointer], verbose=2)"
   ]
  },
  {
   "cell_type": "code",
   "execution_count": 28,
   "metadata": {
    "collapsed": false,
    "deletable": true,
    "editable": true
   },
   "outputs": [
    {
     "name": "stdout",
     "output_type": "stream",
     "text": [
      "Train on 6680 samples, validate on 835 samples\n",
      "Epoch 1/20\n",
      " - 4s - loss: 1.0546 - acc: 0.7358 - val_loss: 0.5138 - val_acc: 0.8347\n",
      "\n",
      "Epoch 00001: val_loss improved from inf to 0.51377, saving model to saved_models/weights.best.Xception.hdf5\n",
      "Epoch 2/20\n",
      " - 4s - loss: 0.4004 - acc: 0.8716 - val_loss: 0.4740 - val_acc: 0.8479\n",
      "\n",
      "Epoch 00002: val_loss improved from 0.51377 to 0.47396, saving model to saved_models/weights.best.Xception.hdf5\n",
      "Epoch 3/20\n",
      " - 4s - loss: 0.3200 - acc: 0.8994 - val_loss: 0.4838 - val_acc: 0.8503\n",
      "\n",
      "Epoch 00003: val_loss did not improve from 0.47396\n",
      "Epoch 4/20\n",
      " - 4s - loss: 0.2790 - acc: 0.9129 - val_loss: 0.4975 - val_acc: 0.8467\n",
      "\n",
      "Epoch 00004: val_loss did not improve from 0.47396\n",
      "Epoch 5/20\n",
      " - 4s - loss: 0.2438 - acc: 0.9240 - val_loss: 0.5258 - val_acc: 0.8575\n",
      "\n",
      "Epoch 00005: val_loss did not improve from 0.47396\n",
      "Epoch 6/20\n",
      " - 4s - loss: 0.2186 - acc: 0.9323 - val_loss: 0.5052 - val_acc: 0.8575\n",
      "\n",
      "Epoch 00006: val_loss did not improve from 0.47396\n",
      "Epoch 7/20\n",
      " - 4s - loss: 0.1981 - acc: 0.9400 - val_loss: 0.5261 - val_acc: 0.8587\n",
      "\n",
      "Epoch 00007: val_loss did not improve from 0.47396\n",
      "Epoch 8/20\n",
      " - 4s - loss: 0.1795 - acc: 0.9458 - val_loss: 0.5453 - val_acc: 0.8515\n",
      "\n",
      "Epoch 00008: val_loss did not improve from 0.47396\n",
      "Epoch 9/20\n",
      " - 4s - loss: 0.1597 - acc: 0.9501 - val_loss: 0.5224 - val_acc: 0.8647\n",
      "\n",
      "Epoch 00009: val_loss did not improve from 0.47396\n",
      "Epoch 10/20\n",
      " - 4s - loss: 0.1513 - acc: 0.9539 - val_loss: 0.5567 - val_acc: 0.8623\n",
      "\n",
      "Epoch 00010: val_loss did not improve from 0.47396\n",
      "Epoch 11/20\n",
      " - 4s - loss: 0.1379 - acc: 0.9579 - val_loss: 0.5792 - val_acc: 0.8647\n",
      "\n",
      "Epoch 00011: val_loss did not improve from 0.47396\n",
      "Epoch 12/20\n",
      " - 4s - loss: 0.1259 - acc: 0.9627 - val_loss: 0.6075 - val_acc: 0.8587\n",
      "\n",
      "Epoch 00012: val_loss did not improve from 0.47396\n",
      "Epoch 13/20\n",
      " - 4s - loss: 0.1165 - acc: 0.9648 - val_loss: 0.5915 - val_acc: 0.8575\n",
      "\n",
      "Epoch 00013: val_loss did not improve from 0.47396\n",
      "Epoch 14/20\n",
      " - 4s - loss: 0.1053 - acc: 0.9696 - val_loss: 0.6197 - val_acc: 0.8539\n",
      "\n",
      "Epoch 00014: val_loss did not improve from 0.47396\n",
      "Epoch 15/20\n",
      " - 4s - loss: 0.1003 - acc: 0.9690 - val_loss: 0.6318 - val_acc: 0.8587\n",
      "\n",
      "Epoch 00015: val_loss did not improve from 0.47396\n",
      "Epoch 16/20\n",
      " - 4s - loss: 0.0934 - acc: 0.9723 - val_loss: 0.6197 - val_acc: 0.8575\n",
      "\n",
      "Epoch 00016: val_loss did not improve from 0.47396\n",
      "Epoch 17/20\n",
      " - 4s - loss: 0.0890 - acc: 0.9744 - val_loss: 0.6370 - val_acc: 0.8611\n",
      "\n",
      "Epoch 00017: val_loss did not improve from 0.47396\n",
      "Epoch 18/20\n",
      " - 4s - loss: 0.0852 - acc: 0.9757 - val_loss: 0.6617 - val_acc: 0.8551\n",
      "\n",
      "Epoch 00018: val_loss did not improve from 0.47396\n",
      "Epoch 19/20\n",
      " - 4s - loss: 0.0792 - acc: 0.9775 - val_loss: 0.6532 - val_acc: 0.8587\n",
      "\n",
      "Epoch 00019: val_loss did not improve from 0.47396\n",
      "Epoch 20/20\n",
      " - 4s - loss: 0.0731 - acc: 0.9771 - val_loss: 0.6668 - val_acc: 0.8683\n",
      "\n",
      "Epoch 00020: val_loss did not improve from 0.47396\n"
     ]
    },
    {
     "data": {
      "text/plain": [
       "<keras.callbacks.History at 0x7f9095e972b0>"
      ]
     },
     "execution_count": 28,
     "metadata": {},
     "output_type": "execute_result"
    }
   ],
   "source": [
    "checkpointer = ModelCheckpoint(filepath='saved_models/weights.best.Xception.hdf5', \n",
    "                               verbose=1, save_best_only=True)\n",
    "\n",
    "Xception_model.fit(train_Xception, train_targets, \n",
    "          validation_data=(valid_Xception, valid_targets),\n",
    "          epochs=20, batch_size=20, callbacks=[checkpointer], verbose=2)"
   ]
  },
  {
   "cell_type": "markdown",
   "metadata": {
    "deletable": true,
    "editable": true
   },
   "source": [
    "### (IMPLEMENTATION) Load the Model with the Best Validation Loss"
   ]
  },
  {
   "cell_type": "code",
   "execution_count": 14,
   "metadata": {
    "collapsed": true,
    "deletable": true,
    "editable": true
   },
   "outputs": [],
   "source": [
    "### TODO: Load the model weights with the best validation loss.\n",
    "VGG19_model.load_weights('saved_models/weights.best.VGG19.hdf5')"
   ]
  },
  {
   "cell_type": "code",
   "execution_count": 29,
   "metadata": {
    "collapsed": true,
    "deletable": true,
    "editable": true
   },
   "outputs": [],
   "source": [
    "Resnet50_model.load_weights('saved_models/weights.best.Resnet50.hdf5')"
   ]
  },
  {
   "cell_type": "code",
   "execution_count": 30,
   "metadata": {
    "collapsed": true,
    "deletable": true,
    "editable": true
   },
   "outputs": [],
   "source": [
    "InceptionV3_model.load_weights('saved_models/weights.best.InceptionV3.hdf5')"
   ]
  },
  {
   "cell_type": "code",
   "execution_count": 31,
   "metadata": {
    "collapsed": true,
    "deletable": true,
    "editable": true
   },
   "outputs": [],
   "source": [
    "Xception_model.load_weights('saved_models/weights.best.Xception.hdf5')"
   ]
  },
  {
   "cell_type": "markdown",
   "metadata": {
    "deletable": true,
    "editable": true
   },
   "source": [
    "### (IMPLEMENTATION) Test the Model\n",
    "\n",
    "Try out your model on the test dataset of dog images. Ensure that your test accuracy is greater than 60%."
   ]
  },
  {
   "cell_type": "code",
   "execution_count": 15,
   "metadata": {
    "collapsed": false,
    "deletable": true,
    "editable": true
   },
   "outputs": [
    {
     "name": "stdout",
     "output_type": "stream",
     "text": [
      "Test accuracy: 52.0335%\n"
     ]
    }
   ],
   "source": [
    "### TODO: Calculate classification accuracy on the test dataset.\n",
    "# get index of predicted dog breed for each image in test set\n",
    "VGG19_predictions = [np.argmax(VGG19_model.predict(np.expand_dims(feature, axis=0))) for feature in test_VGG19]\n",
    "\n",
    "# report test accuracy\n",
    "test_accuracy = 100*np.sum(np.array(VGG19_predictions)==np.argmax(test_targets, axis=1))/len(VGG19_predictions)\n",
    "print('Test accuracy: %.4f%%' % test_accuracy)"
   ]
  },
  {
   "cell_type": "code",
   "execution_count": 32,
   "metadata": {
    "collapsed": false,
    "deletable": true,
    "editable": true
   },
   "outputs": [
    {
     "name": "stdout",
     "output_type": "stream",
     "text": [
      "Test accuracy: 78.5885%\n"
     ]
    }
   ],
   "source": [
    "# get index of predicted dog breed for each image in test set\n",
    "Resnet50_predictions = [np.argmax(Resnet50_model.predict(np.expand_dims(feature, axis=0))) for feature in test_Resnet50]\n",
    "\n",
    "# report test accuracy\n",
    "test_accuracy = 100*np.sum(np.array(Resnet50_predictions)==np.argmax(test_targets, axis=1))/len(Resnet50_predictions)\n",
    "print('Test accuracy: %.4f%%' % test_accuracy)"
   ]
  },
  {
   "cell_type": "code",
   "execution_count": 33,
   "metadata": {
    "collapsed": false,
    "deletable": true,
    "editable": true
   },
   "outputs": [
    {
     "name": "stdout",
     "output_type": "stream",
     "text": [
      "Test accuracy: 80.1435%\n"
     ]
    }
   ],
   "source": [
    "# get index of predicted dog breed for each image in test set\n",
    "InceptionV3_predictions = [np.argmax(InceptionV3_model.predict(np.expand_dims(feature, axis=0))) for feature in test_InceptionV3]\n",
    "\n",
    "# report test accuracy\n",
    "test_accuracy = 100*np.sum(np.array(InceptionV3_predictions)==np.argmax(test_targets, axis=1))/len(InceptionV3_predictions)\n",
    "print('Test accuracy: %.4f%%' % test_accuracy)"
   ]
  },
  {
   "cell_type": "code",
   "execution_count": 34,
   "metadata": {
    "collapsed": false,
    "deletable": true,
    "editable": true
   },
   "outputs": [
    {
     "name": "stdout",
     "output_type": "stream",
     "text": [
      "Test accuracy: 83.1340%\n"
     ]
    }
   ],
   "source": [
    "# get index of predicted dog breed for each image in test set\n",
    "Xception_predictions = [np.argmax(Xception_model.predict(np.expand_dims(feature, axis=0))) for feature in test_Xception]\n",
    "\n",
    "# report test accuracy\n",
    "test_accuracy = 100*np.sum(np.array(Xception_predictions)==np.argmax(test_targets, axis=1))/len(Xception_predictions)\n",
    "print('Test accuracy: %.4f%%' % test_accuracy)"
   ]
  },
  {
   "cell_type": "markdown",
   "metadata": {
    "deletable": true,
    "editable": true
   },
   "source": [
    "### (IMPLEMENTATION) Predict Dog Breed with the Model\n",
    "\n",
    "Write a function that takes an image path as input and returns the dog breed (`Affenpinscher`, `Afghan_hound`, etc) that is predicted by your model.  \n",
    "\n",
    "Similar to the analogous function in Step 5, your function should have three steps:\n",
    "1. Extract the bottleneck features corresponding to the chosen CNN model.\n",
    "2. Supply the bottleneck features as input to the model to return the predicted vector.  Note that the argmax of this prediction vector gives the index of the predicted dog breed.\n",
    "3. Use the `dog_names` array defined in Step 0 of this notebook to return the corresponding breed.\n",
    "\n",
    "The functions to extract the bottleneck features can be found in `extract_bottleneck_features.py`, and they have been imported in an earlier code cell.  To obtain the bottleneck features corresponding to your chosen CNN architecture, you need to use the function\n",
    "\n",
    "    extract_{network}\n",
    "    \n",
    "where `{network}`, in the above filename, should be one of `VGG19`, `Resnet50`, `InceptionV3`, or `Xception`."
   ]
  },
  {
   "cell_type": "code",
   "execution_count": null,
   "metadata": {
    "collapsed": true,
    "deletable": true,
    "editable": true
   },
   "outputs": [],
   "source": [
    "### TODO: Write a function that takes a path to an image as input\n",
    "### and returns the dog breed that is predicted by the model.\n",
    "def VGG19_predict_breed(img_path):\n",
    "    # extract bottleneck features\n",
    "    bottleneck_feature = extract_VGG19(path_to_tensor(img_path))\n",
    "    # obtain predicted vector\n",
    "    predicted_vector = VGG19_model.predict(bottleneck_feature)\n",
    "    # return dog breed that is predicted by the model\n",
    "    return dog_names[np.argmax(predicted_vector)]"
   ]
  },
  {
   "cell_type": "code",
   "execution_count": null,
   "metadata": {
    "collapsed": true,
    "deletable": true,
    "editable": true
   },
   "outputs": [],
   "source": [
    "def Resnet50_predict_breed(img_path):\n",
    "    # extract bottleneck features\n",
    "    bottleneck_feature = extract_Resnet50(path_to_tensor(img_path))\n",
    "    # obtain predicted vector\n",
    "    predicted_vector = Resnet50_model.predict(bottleneck_feature)\n",
    "    # return dog breed that is predicted by the model\n",
    "    return dog_names[np.argmax(predicted_vector)]"
   ]
  },
  {
   "cell_type": "code",
   "execution_count": null,
   "metadata": {
    "collapsed": true,
    "deletable": true,
    "editable": true
   },
   "outputs": [],
   "source": [
    "def InceptionV3_predict_breed(img_path):\n",
    "    # extract bottleneck features\n",
    "    bottleneck_feature = extract_InceptionV3(path_to_tensor(img_path))\n",
    "    # obtain predicted vector\n",
    "    predicted_vector = InceptionV3_model.predict(bottleneck_feature)\n",
    "    # return dog breed that is predicted by the model\n",
    "    return dog_names[np.argmax(predicted_vector)]"
   ]
  },
  {
   "cell_type": "code",
   "execution_count": null,
   "metadata": {
    "collapsed": true,
    "deletable": true,
    "editable": true
   },
   "outputs": [],
   "source": [
    "def Xception_predict_breed(img_path):\n",
    "    # extract bottleneck features\n",
    "    bottleneck_feature = extract_Xception(path_to_tensor(img_path))\n",
    "    # obtain predicted vector\n",
    "    predicted_vector = Xception_model.predict(bottleneck_feature)\n",
    "    # return dog breed that is predicted by the model\n",
    "    return dog_names[np.argmax(predicted_vector)]"
   ]
  },
  {
   "cell_type": "markdown",
   "metadata": {
    "deletable": true,
    "editable": true
   },
   "source": [
    "---\n",
    "<a id='step6'></a>\n",
    "## Step 6: Write your Algorithm\n",
    "\n",
    "Write an algorithm that accepts a file path to an image and first determines whether the image contains a human, dog, or neither.  Then,\n",
    "- if a __dog__ is detected in the image, return the predicted breed.\n",
    "- if a __human__ is detected in the image, return the resembling dog breed.\n",
    "- if __neither__ is detected in the image, provide output that indicates an error.\n",
    "\n",
    "You are welcome to write your own functions for detecting humans and dogs in images, but feel free to use the `face_detector` and `dog_detector` functions developed above.  You are __required__ to use your CNN from Step 5 to predict dog breed.  \n",
    "\n",
    "Some sample output for our algorithm is provided below, but feel free to design your own user experience!\n",
    "\n",
    "![Sample Human Output](images/sample_human_output.png)\n",
    "\n",
    "\n",
    "### (IMPLEMENTATION) Write your Algorithm"
   ]
  },
  {
   "cell_type": "code",
   "execution_count": null,
   "metadata": {
    "collapsed": true,
    "deletable": true,
    "editable": true
   },
   "outputs": [],
   "source": [
    "### TODO: Write your algorithm.\n",
    "### Feel free to use as many code cells as needed.\n",
    "def human_dog_detector(img_path):\n",
    "    if dog_detector(img_path):\n",
    "        print(\"hello, dog!\")\n",
    "        print(\"You are a \\n {}\".format(Xception_predict_breed(img_path)))\n",
    "    elif face_detector(img_path):\n",
    "        print(\"hello, human!\")\n",
    "        print(\"You look like a \\n {}\".format(Xception_predict_breed(img_path)))\n",
    "    else:\n",
    "        print(\"hello, you look like neither a dog or a human\")"
   ]
  },
  {
   "cell_type": "markdown",
   "metadata": {
    "deletable": true,
    "editable": true
   },
   "source": [
    "---\n",
    "<a id='step7'></a>\n",
    "## Step 7: Test Your Algorithm\n",
    "\n",
    "In this section, you will take your new algorithm for a spin!  What kind of dog does the algorithm think that __you__ look like?  If you have a dog, does it predict your dog's breed accurately?  If you have a cat, does it mistakenly think that your cat is a dog?\n",
    "\n",
    "### (IMPLEMENTATION) Test Your Algorithm on Sample Images!\n",
    "\n",
    "Test your algorithm at least six images on your computer.  Feel free to use any images you like.  Use at least two human and two dog images.  \n",
    "\n",
    "__Question 6:__ Is the output better than you expected :) ?  Or worse :( ?  Provide at least three possible points of improvement for your algorithm.\n",
    "\n",
    "__Answer:__ "
   ]
  },
  {
   "cell_type": "code",
   "execution_count": null,
   "metadata": {
    "collapsed": true,
    "deletable": true,
    "editable": true
   },
   "outputs": [],
   "source": [
    "## TODO: Execute your algorithm from Step 6 on\n",
    "## at least 6 images on your computer.\n",
    "## Feel free to use as many code cells as needed."
   ]
  }
 ],
 "metadata": {
  "anaconda-cloud": {},
  "kernelspec": {
   "display_name": "Python 3",
   "language": "python",
   "name": "python3"
  },
  "language_info": {
   "codemirror_mode": {
    "name": "ipython",
    "version": 3
   },
   "file_extension": ".py",
   "mimetype": "text/x-python",
   "name": "python",
   "nbconvert_exporter": "python",
   "pygments_lexer": "ipython3",
   "version": "3.5.5"
  }
 },
 "nbformat": 4,
 "nbformat_minor": 1
}
